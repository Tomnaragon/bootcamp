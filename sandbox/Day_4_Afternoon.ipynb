{
 "cells": [
  {
   "cell_type": "markdown",
   "metadata": {},
   "source": [
    "# Lesson 30"
   ]
  },
  {
   "cell_type": "code",
   "execution_count": 2,
   "metadata": {},
   "outputs": [],
   "source": [
    "import numpy as np\n",
    "import pandas as pd\n",
    "import scipy.stats\n",
    "\n",
    "import altair as alt\n",
    "\n",
    "import bootcamp_utils"
   ]
  },
  {
   "cell_type": "code",
   "execution_count": 3,
   "metadata": {},
   "outputs": [
    {
     "data": {
      "text/plain": [
       "array([0.53715481, 0.6797765 , 0.85238565, 0.4592562 , 0.02011644,\n",
       "       0.07408971, 0.65817211, 0.527407  , 0.3566682 , 0.3263544 ])"
      ]
     },
     "execution_count": 3,
     "metadata": {},
     "output_type": "execute_result"
    }
   ],
   "source": [
    "np.random.random(size=10)"
   ]
  },
  {
   "cell_type": "code",
   "execution_count": 27,
   "metadata": {},
   "outputs": [
    {
     "data": {
      "application/vnd.vegalite.v2+json": {
       "$schema": "https://vega.github.io/schema/vega-lite/v2.4.3.json",
       "config": {
        "view": {
         "height": 300,
         "width": 400
        }
       },
       "layer": [
        {
         "data": {
          "values": [
           {
            "x": 4.471390057769753e-06,
            "y": 1e-05
           },
           {
            "x": 0.00985190409434833,
            "y": 0.01001
           },
           {
            "x": 0.020051616089284408,
            "y": 0.02001
           },
           {
            "x": 0.030011718467793935,
            "y": 0.03001
           },
           {
            "x": 0.03956897837981477,
            "y": 0.04001
           },
           {
            "x": 0.04982674843671009,
            "y": 0.05001
           },
           {
            "x": 0.05998160517037421,
            "y": 0.06001
           },
           {
            "x": 0.06976867064938319,
            "y": 0.07001
           },
           {
            "x": 0.07921691474935133,
            "y": 0.08001
           },
           {
            "x": 0.08918534994603877,
            "y": 0.09001
           },
           {
            "x": 0.09891695446865911,
            "y": 0.10001
           },
           {
            "x": 0.10885152056384872,
            "y": 0.11001
           },
           {
            "x": 0.11938394669098995,
            "y": 0.12001
           },
           {
            "x": 0.12944735775091154,
            "y": 0.13001
           },
           {
            "x": 0.13904468167986805,
            "y": 0.14001
           },
           {
            "x": 0.14876713864479307,
            "y": 0.15001
           },
           {
            "x": 0.15861564289418628,
            "y": 0.16001
           },
           {
            "x": 0.16850364752447078,
            "y": 0.17001
           },
           {
            "x": 0.17873425384726815,
            "y": 0.18001
           },
           {
            "x": 0.18857191127434114,
            "y": 0.19001
           },
           {
            "x": 0.19859913386275385,
            "y": 0.20001
           },
           {
            "x": 0.20853825036317797,
            "y": 0.21001
           },
           {
            "x": 0.21813637209792203,
            "y": 0.22001
           },
           {
            "x": 0.22867735883007,
            "y": 0.23001
           },
           {
            "x": 0.23873603438323332,
            "y": 0.24001
           },
           {
            "x": 0.24830879505821402,
            "y": 0.25001
           },
           {
            "x": 0.25833602745898476,
            "y": 0.26001
           },
           {
            "x": 0.26822927720144607,
            "y": 0.27001
           },
           {
            "x": 0.27814565673361535,
            "y": 0.28001
           },
           {
            "x": 0.28785822747250434,
            "y": 0.29001
           },
           {
            "x": 0.29832291776854314,
            "y": 0.30001
           },
           {
            "x": 0.30840478742914823,
            "y": 0.31001
           },
           {
            "x": 0.3178934381805322,
            "y": 0.32001
           },
           {
            "x": 0.32783224080319084,
            "y": 0.33001
           },
           {
            "x": 0.33700987327630494,
            "y": 0.34001
           },
           {
            "x": 0.3474613042348498,
            "y": 0.35001
           },
           {
            "x": 0.3577123801295714,
            "y": 0.36001
           },
           {
            "x": 0.3676720773004637,
            "y": 0.37001
           },
           {
            "x": 0.3776622306368419,
            "y": 0.38001
           },
           {
            "x": 0.3879647599978234,
            "y": 0.39001
           },
           {
            "x": 0.39836412561868073,
            "y": 0.40001
           },
           {
            "x": 0.40873496102997886,
            "y": 0.41001
           },
           {
            "x": 0.41888114991486225,
            "y": 0.42001
           },
           {
            "x": 0.42881496522503393,
            "y": 0.43001
           },
           {
            "x": 0.43860801528930915,
            "y": 0.44001
           },
           {
            "x": 0.4481989090601398,
            "y": 0.45001
           },
           {
            "x": 0.45821517810692025,
            "y": 0.46001
           },
           {
            "x": 0.4684643057436514,
            "y": 0.47001
           },
           {
            "x": 0.4782460400048665,
            "y": 0.48001
           },
           {
            "x": 0.488473791289058,
            "y": 0.49001
           },
           {
            "x": 0.4984763807793412,
            "y": 0.50001
           },
           {
            "x": 0.5081337759170268,
            "y": 0.51001
           },
           {
            "x": 0.5185914037432365,
            "y": 0.52001
           },
           {
            "x": 0.5285357423449215,
            "y": 0.53001
           },
           {
            "x": 0.5393477481168941,
            "y": 0.54001
           },
           {
            "x": 0.549631770885769,
            "y": 0.55001
           },
           {
            "x": 0.5588427736593751,
            "y": 0.56001
           },
           {
            "x": 0.5689077983624766,
            "y": 0.57001
           },
           {
            "x": 0.5790647668364566,
            "y": 0.58001
           },
           {
            "x": 0.5893852766275881,
            "y": 0.59001
           },
           {
            "x": 0.5995661908212906,
            "y": 0.60001
           },
           {
            "x": 0.6101507323684117,
            "y": 0.61001
           },
           {
            "x": 0.6202346227453231,
            "y": 0.62001
           },
           {
            "x": 0.6298786308879184,
            "y": 0.63001
           },
           {
            "x": 0.6390222614965005,
            "y": 0.64001
           },
           {
            "x": 0.6489047900688493,
            "y": 0.65001
           },
           {
            "x": 0.6586058410657133,
            "y": 0.66001
           },
           {
            "x": 0.6682720572198978,
            "y": 0.67001
           },
           {
            "x": 0.6775801837767962,
            "y": 0.68001
           },
           {
            "x": 0.6875972945298656,
            "y": 0.69001
           },
           {
            "x": 0.6979832438645427,
            "y": 0.70001
           },
           {
            "x": 0.7078149904636939,
            "y": 0.71001
           },
           {
            "x": 0.718448510299233,
            "y": 0.72001
           },
           {
            "x": 0.7281140528190978,
            "y": 0.73001
           },
           {
            "x": 0.7382548104546646,
            "y": 0.74001
           },
           {
            "x": 0.7482802993145566,
            "y": 0.75001
           },
           {
            "x": 0.7583050616950119,
            "y": 0.76001
           },
           {
            "x": 0.7680204855389721,
            "y": 0.77001
           },
           {
            "x": 0.778780026137556,
            "y": 0.78001
           },
           {
            "x": 0.7887726312442066,
            "y": 0.79001
           },
           {
            "x": 0.7988592064215879,
            "y": 0.80001
           },
           {
            "x": 0.8087312305475709,
            "y": 0.81001
           },
           {
            "x": 0.8184657654882392,
            "y": 0.82001
           },
           {
            "x": 0.8284005338937892,
            "y": 0.83001
           },
           {
            "x": 0.8390060347060531,
            "y": 0.84001
           },
           {
            "x": 0.849284810235201,
            "y": 0.85001
           },
           {
            "x": 0.8587071595534045,
            "y": 0.86001
           },
           {
            "x": 0.8688215458077007,
            "y": 0.87001
           },
           {
            "x": 0.8786721198538562,
            "y": 0.88001
           },
           {
            "x": 0.8885897590241492,
            "y": 0.89001
           },
           {
            "x": 0.898242599447751,
            "y": 0.90001
           },
           {
            "x": 0.9080606040724518,
            "y": 0.91001
           },
           {
            "x": 0.9181587202273193,
            "y": 0.92001
           },
           {
            "x": 0.9284494870186462,
            "y": 0.93001
           },
           {
            "x": 0.9383911147215003,
            "y": 0.94001
           },
           {
            "x": 0.9481136970064957,
            "y": 0.95001
           },
           {
            "x": 0.9589243135139183,
            "y": 0.96001
           },
           {
            "x": 0.9693458467576528,
            "y": 0.97001
           },
           {
            "x": 0.979547196559964,
            "y": 0.98001
           },
           {
            "x": 0.9900683729057408,
            "y": 0.99001
           }
          ]
         },
         "encoding": {
          "x": {
           "field": "x",
           "type": "quantitative"
          },
          "y": {
           "field": "y",
           "type": "quantitative"
          }
         },
         "mark": "point"
        },
        {
         "data": {
          "values": [
           {
            "x": 0,
            "y": 0
           },
           {
            "x": 1,
            "y": 1
           }
          ]
         },
         "encoding": {
          "x": {
           "field": "x",
           "type": "quantitative"
          },
          "y": {
           "field": "y",
           "type": "quantitative"
          }
         },
         "mark": {
          "color": "tomato",
          "type": "line"
         }
        }
       ]
      },
      "image/png": "[encoded data removed]",
      "text/plain": [
       "<VegaLite 2 object>\n",
       "\n",
       "If you see this message, it means the renderer has not been properly enabled\n",
       "for the frontend that you are using. For more information, see\n",
       "https://altair-viz.github.io/user_guide/troubleshooting.html\n"
      ]
     },
     "execution_count": 27,
     "metadata": {},
     "output_type": "execute_result"
    }
   ],
   "source": [
    "x = np.random.random(size=100000)\n",
    "\n",
    "x, y = bootcamp_utils.ecdf_vals(x)\n",
    "\n",
    "df_ecdf = pd.DataFrame(data={'x': x[::1000],\n",
    "                             'y': y[::1000]})\n",
    "\n",
    "df_cdf = pd.DataFrame(data={'x': [0,1],\n",
    "                            'y': [0,1]})\n",
    "\n",
    "ecdf = alt.Chart(df_ecdf\n",
    "    ).mark_point(\n",
    "    ).encode(\n",
    "        x='x:Q',\n",
    "        y='y:Q')\n",
    "\n",
    "cdf = alt.Chart(df_cdf\n",
    "    ).mark_line(\n",
    "        color='tomato'\n",
    "    ).encode(\n",
    "        x='x:Q',\n",
    "        y='y:Q')\n",
    "\n",
    "ecdf + cdf"
   ]
  },
  {
   "cell_type": "code",
   "execution_count": 77,
   "metadata": {},
   "outputs": [
    {
     "name": "stdout",
     "output_type": "stream",
     "text": [
      "There were  4924  heads\n"
     ]
    }
   ],
   "source": [
    "np.random.seed(42)\n",
    "\n",
    "x = np.random.random(size = 10000)\n",
    "\n",
    "heads = x > 0.5\n",
    "\n",
    "print('There were ', np.sum(heads), ' heads')"
   ]
  },
  {
   "cell_type": "code",
   "execution_count": 82,
   "metadata": {},
   "outputs": [
    {
     "name": "stdout",
     "output_type": "stream",
     "text": [
      "There were  4924  heads\n"
     ]
    }
   ],
   "source": [
    "np.random.seed(42)\n",
    "y = np.random.random(size=10000)\n",
    "\n",
    "headsy = y > 0.5\n",
    "\n",
    "print('There were ', np.sum(headsy), ' heads')"
   ]
  },
  {
   "cell_type": "code",
   "execution_count": 122,
   "metadata": {},
   "outputs": [],
   "source": [
    "def ecdf_y(data):\n",
    "    \"\"\"Give y-values of an ECDF for an unsorted column in a data frame.\n",
    "    \n",
    "    Parameters\n",
    "    ----------\n",
    "    data : Pandas Series\n",
    "        Series (or column of a DataFrame) from which to generate ECDF\n",
    "        values\n",
    "\n",
    "    Returns\n",
    "    -------\n",
    "    output : Pandas Series\n",
    "        Corresponding y-values for an ECDF when plotted with dots.\n",
    "\n",
    "    Notes\n",
    "    -----\n",
    "    .. This only works for plotting an ECDF with points, not for formal\n",
    "       ECDFs\n",
    "    \"\"\"\n",
    "    return data.rank(method='first') / len(data)"
   ]
  },
  {
   "cell_type": "code",
   "execution_count": 123,
   "metadata": {},
   "outputs": [
    {
     "data": {
      "application/vnd.vegalite.v2+json": {
       "$schema": "https://vega.github.io/schema/vega-lite/v2.4.3.json",
       "config": {
        "view": {
         "height": 300,
         "width": 400
        }
       },
       "data": {
        "values": [
         {
          "x": 5.567209141592841,
          "y": 5.6752673439944036e-05
         },
         {
          "x": 5.743412294569978,
          "y": 0
         },
         {
          "x": 5.919615447547117,
          "y": 0
         },
         {
          "x": 6.095818600524256,
          "y": 0.00028376336719971874
         },
         {
          "x": 6.272021753501393,
          "y": 0.00034051604063966423
         },
         {
          "x": 6.448224906478531,
          "y": 0.0005675267343994403
         },
         {
          "x": 6.624428059455669,
          "y": 0.001759332876638265
         },
         {
          "x": 6.8006312124328065,
          "y": 0.002213354264157806
         },
         {
          "x": 6.976834365409946,
          "y": 0.0043699558548756685
         },
         {
          "x": 7.153037518387084,
          "y": 0.0076048582409525
         },
         {
          "x": 7.3292406713642215,
          "y": 0.011747803402068414
         },
         {
          "x": 7.505443824341359,
          "y": 0.01617451193038405
         },
         {
          "x": 7.681646977318497,
          "y": 0.02661700384333362
         },
         {
          "x": 7.857850130295636,
          "y": 0.04040790348924015
         },
         {
          "x": 8.034053283272774,
          "y": 0.05822824294938228
         },
         {
          "x": 8.210256436249912,
          "y": 0.08007802222376102
         },
         {
          "x": 8.38645958922705,
          "y": 0.10680853141397467
         },
         {
          "x": 8.56266274220419,
          "y": 0.14579761806721475
         },
         {
          "x": 8.738865895181327,
          "y": 0.18155180233438095
         },
         {
          "x": 8.915069048158465,
          "y": 0.21855454541722447
         },
         {
          "x": 9.091272201135602,
          "y": 0.2637296734754199
         },
         {
          "x": 9.26747535411274,
          "y": 0.2972137508049869
         },
         {
          "x": 9.443678507089878,
          "y": 0.35022074779789464
         },
         {
          "x": 9.619881660067016,
          "y": 0.3666790230954784
         },
         {
          "x": 9.796084813044153,
          "y": 0.392444736837213
         },
         {
          "x": 9.972287966021291,
          "y": 0.3913664360418501
         },
         {
          "x": 10.14849111899843,
          "y": 0.3991983049765664
         },
         {
          "x": 10.324694271975568,
          "y": 0.3733190858879519
         },
         {
          "x": 10.500897424952708,
          "y": 0.35606627316220524
         },
         {
          "x": 10.677100577929846,
          "y": 0.3201985835481642
         },
         {
          "x": 10.853303730906983,
          "y": 0.27445592875556934
         },
         {
          "x": 11.029506883884121,
          "y": 0.23597761616328727
         },
         {
          "x": 11.205710036861259,
          "y": 0.19324285306300942
         },
         {
          "x": 11.381913189838397,
          "y": 0.15062159530961144
         },
         {
          "x": 11.558116342815534,
          "y": 0.1225857746302791
         },
         {
          "x": 11.734319495792672,
          "y": 0.08859092323975173
         },
         {
          "x": 11.910522648769811,
          "y": 0.06815996080137278
         },
         {
          "x": 12.08672580174695,
          "y": 0.04477785934411584
         },
         {
          "x": 12.262928954724089,
          "y": 0.030078916923170038
         },
         {
          "x": 12.439132107701226,
          "y": 0.019522919663340747
         },
         {
          "x": 12.615335260678364,
          "y": 0.013904404992786288
         },
         {
          "x": 12.791538413655502,
          "y": 0.009023675076951102
         },
         {
          "x": 12.96774156663264,
          "y": 0.004653719222075411
         },
         {
          "x": 13.143944719609777,
          "y": 0.0028943863454371456
         },
         {
          "x": 13.320147872586915,
          "y": 0.001759332876638265
         },
         {
          "x": 13.496351025564053,
          "y": 0.0007945374281592085
         },
         {
          "x": 13.672554178541192,
          "y": 0.00022701069375977615
         },
         {
          "x": 13.84875733151833,
          "y": 0.00034051604063966423
         },
         {
          "x": 14.024960484495468,
          "y": 0
         },
         {
          "x": 14.201163637472606,
          "y": 5.6752673439944036e-05
         }
        ]
       },
       "encoding": {
        "x": {
         "field": "x",
         "type": "quantitative"
        },
        "y": {
         "field": "y",
         "type": "quantitative"
        }
       },
       "mark": {
        "interpolate": "step",
        "type": "area"
       }
      },
      "image/png": "[encoded data removed]",
      "text/plain": [
       "<VegaLite 2 object>\n",
       "\n",
       "If you see this message, it means the renderer has not been properly enabled\n",
       "for the frontend that you are using. For more information, see\n",
       "https://altair-viz.github.io/user_guide/troubleshooting.html\n"
      ]
     },
     "execution_count": 123,
     "metadata": {},
     "output_type": "execute_result"
    }
   ],
   "source": [
    "mu = 10\n",
    "sigma = 1\n",
    "\n",
    "x = np.random.normal(mu, sigma, size = 100000)\n",
    "\n",
    "hist, bin_edges = np.histogram(x, density=True, bins=50)\n",
    "bin_centers = np.diff(bin_edges)/2 + bin_edges[:-1]\n",
    "\n",
    "df = pd.DataFrame(data={'x': bin_centers, 'y': hist})\n",
    "\n",
    "alt.Chart(df,\n",
    "        ).mark_area(interpolate='step'\n",
    "        ).encode(\n",
    "            x='x:Q',\n",
    "            y='y:Q'\n",
    "        )"
   ]
  },
  {
   "cell_type": "code",
   "execution_count": 140,
   "metadata": {},
   "outputs": [
    {
     "data": {
      "application/vnd.vegalite.v2+json": {
       "$schema": "https://vega.github.io/schema/vega-lite/v2.4.3.json",
       "config": {
        "view": {
         "height": 300,
         "width": 400
        }
       },
       "layer": [
        {
         "data": {
          "values": [
           {
            "x": 5.479107565104272,
            "y": 1e-05
           },
           {
            "x": 7.680188938887433,
            "y": 0.01001
           },
           {
            "x": 7.951832836779843,
            "y": 0.02001
           },
           {
            "x": 8.122053593904557,
            "y": 0.03001
           },
           {
            "x": 8.250313948136307,
            "y": 0.04001
           },
           {
            "x": 8.35937263951398,
            "y": 0.05001
           },
           {
            "x": 8.452209529561767,
            "y": 0.06001
           },
           {
            "x": 8.525535001232605,
            "y": 0.07001
           },
           {
            "x": 8.594037988493227,
            "y": 0.08001
           },
           {
            "x": 8.659814231393149,
            "y": 0.09001
           },
           {
            "x": 8.71836410100327,
            "y": 0.10001
           },
           {
            "x": 8.773105107063703,
            "y": 0.11001
           },
           {
            "x": 8.823386256521498,
            "y": 0.12001
           },
           {
            "x": 8.872862574571407,
            "y": 0.13001
           },
           {
            "x": 8.918454615954502,
            "y": 0.14001
           },
           {
            "x": 8.96406933397172,
            "y": 0.15001
           },
           {
            "x": 9.006271396554734,
            "y": 0.16001
           },
           {
            "x": 9.047788771025662,
            "y": 0.17001
           },
           {
            "x": 9.086714500052908,
            "y": 0.18001
           },
           {
            "x": 9.12222585616725,
            "y": 0.19001
           },
           {
            "x": 9.158664885540421,
            "y": 0.20001
           },
           {
            "x": 9.195421242179217,
            "y": 0.21001
           },
           {
            "x": 9.231974612274868,
            "y": 0.22001
           },
           {
            "x": 9.266274557694805,
            "y": 0.23001
           },
           {
            "x": 9.29901984711809,
            "y": 0.24001
           },
           {
            "x": 9.332141215260162,
            "y": 0.25001
           },
           {
            "x": 9.36186515187117,
            "y": 0.26001
           },
           {
            "x": 9.393536401234954,
            "y": 0.27001
           },
           {
            "x": 9.420341925623003,
            "y": 0.28001
           },
           {
            "x": 9.449895682283628,
            "y": 0.29001
           },
           {
            "x": 9.477678410731311,
            "y": 0.30001
           },
           {
            "x": 9.504793337418011,
            "y": 0.31001
           },
           {
            "x": 9.532499709993438,
            "y": 0.32001
           },
           {
            "x": 9.559994793470231,
            "y": 0.33001
           },
           {
            "x": 9.588218806322775,
            "y": 0.34001
           },
           {
            "x": 9.615696330750307,
            "y": 0.35001
           },
           {
            "x": 9.642785343516586,
            "y": 0.36001
           },
           {
            "x": 9.669860024142807,
            "y": 0.37001
           },
           {
            "x": 9.697172031209599,
            "y": 0.38001
           },
           {
            "x": 9.722420306300188,
            "y": 0.39001
           },
           {
            "x": 9.748554765357381,
            "y": 0.40001
           },
           {
            "x": 9.774253204928545,
            "y": 0.41001
           },
           {
            "x": 9.798405145838327,
            "y": 0.42001
           },
           {
            "x": 9.825088025216527,
            "y": 0.43001
           },
           {
            "x": 9.850821724063017,
            "y": 0.44001
           },
           {
            "x": 9.875704250092934,
            "y": 0.45001
           },
           {
            "x": 9.901001939299086,
            "y": 0.46001
           },
           {
            "x": 9.926213029455889,
            "y": 0.47001
           },
           {
            "x": 9.951930727486358,
            "y": 0.48001
           },
           {
            "x": 9.977461882574682,
            "y": 0.49001
           },
           {
            "x": 10.003007204456488,
            "y": 0.50001
           },
           {
            "x": 10.029065636335547,
            "y": 0.51001
           },
           {
            "x": 10.053163753478593,
            "y": 0.52001
           },
           {
            "x": 10.079716567357563,
            "y": 0.53001
           },
           {
            "x": 10.103847953235642,
            "y": 0.54001
           },
           {
            "x": 10.128748539982691,
            "y": 0.55001
           },
           {
            "x": 10.154680644770284,
            "y": 0.56001
           },
           {
            "x": 10.178899811562585,
            "y": 0.57001
           },
           {
            "x": 10.203894382760453,
            "y": 0.58001
           },
           {
            "x": 10.230214701145037,
            "y": 0.59001
           },
           {
            "x": 10.25720404723065,
            "y": 0.60001
           },
           {
            "x": 10.283523771114666,
            "y": 0.61001
           },
           {
            "x": 10.309982235501575,
            "y": 0.62001
           },
           {
            "x": 10.335712846105755,
            "y": 0.63001
           },
           {
            "x": 10.362726720672592,
            "y": 0.64001
           },
           {
            "x": 10.390073177739596,
            "y": 0.65001
           },
           {
            "x": 10.416633633557387,
            "y": 0.66001
           },
           {
            "x": 10.444448432546174,
            "y": 0.67001
           },
           {
            "x": 10.471212273651593,
            "y": 0.68001
           },
           {
            "x": 10.49837479252202,
            "y": 0.69001
           },
           {
            "x": 10.527752247759452,
            "y": 0.70001
           },
           {
            "x": 10.555882401756032,
            "y": 0.71001
           },
           {
            "x": 10.584966468020268,
            "y": 0.72001
           },
           {
            "x": 10.61533693529033,
            "y": 0.73001
           },
           {
            "x": 10.644612437049501,
            "y": 0.74001
           },
           {
            "x": 10.677077024159386,
            "y": 0.75001
           },
           {
            "x": 10.708611134961632,
            "y": 0.76001
           },
           {
            "x": 10.740937651983401,
            "y": 0.77001
           },
           {
            "x": 10.773432653028054,
            "y": 0.78001
           },
           {
            "x": 10.808396199713687,
            "y": 0.79001
           },
           {
            "x": 10.843737843413402,
            "y": 0.80001
           },
           {
            "x": 10.880925543733568,
            "y": 0.81001
           },
           {
            "x": 10.916481834434517,
            "y": 0.82001
           },
           {
            "x": 10.95794585897879,
            "y": 0.83001
           },
           {
            "x": 10.99691453349712,
            "y": 0.84001
           },
           {
            "x": 11.038922908680767,
            "y": 0.85001
           },
           {
            "x": 11.082627927174665,
            "y": 0.86001
           },
           {
            "x": 11.127346131783302,
            "y": 0.87001
           },
           {
            "x": 11.175366241539603,
            "y": 0.88001
           },
           {
            "x": 11.228775434386675,
            "y": 0.89001
           },
           {
            "x": 11.284092730683593,
            "y": 0.90001
           },
           {
            "x": 11.34067819159947,
            "y": 0.91001
           },
           {
            "x": 11.405107683648382,
            "y": 0.92001
           },
           {
            "x": 11.483767756356242,
            "y": 0.93001
           },
           {
            "x": 11.560530672570012,
            "y": 0.94001
           },
           {
            "x": 11.648735051804838,
            "y": 0.95001
           },
           {
            "x": 11.757064650054673,
            "y": 0.96001
           },
           {
            "x": 11.879498645909543,
            "y": 0.97001
           },
           {
            "x": 12.052441856663554,
            "y": 0.98001
           },
           {
            "x": 12.327929401469222,
            "y": 0.99001
           }
          ]
         },
         "encoding": {
          "x": {
           "field": "x",
           "scale": {
            "zero": false
           },
           "type": "quantitative"
          },
          "y": {
           "field": "y",
           "type": "quantitative"
          }
         },
         "height": 500,
         "mark": {
          "interpolate": "step",
          "type": "line"
         },
         "width": 800
        },
        {
         "data": {
          "values": [
           {
            "x": 6,
            "y": 3.167124183311986e-05
           },
           {
            "x": 6.020050125313283,
            "y": 3.44649003817073e-05
           },
           {
            "x": 6.040100250626566,
            "y": 3.749061670732139e-05
           },
           {
            "x": 6.06015037593985,
            "y": 4.0766349809372396e-05
           },
           {
            "x": 6.080200501253133,
            "y": 4.431133337702861e-05
           },
           {
            "x": 6.100250626566416,
            "y": 4.814615669635246e-05
           },
           {
            "x": 6.120300751879699,
            "y": 5.2292849939235014e-05
           },
           {
            "x": 6.140350877192983,
            "y": 5.677497401498052e-05
           },
           {
            "x": 6.160401002506266,
            "y": 6.161771516873626e-05
           },
           {
            "x": 6.180451127819548,
            "y": 6.6847984514031e-05
           },
           {
            "x": 6.200501253132832,
            "y": 7.249452268946072e-05
           },
           {
            "x": 6.220551378446116,
            "y": 7.858800983200683e-05
           },
           {
            "x": 6.2406015037593985,
            "y": 8.51611810615419e-05
           },
           {
            "x": 6.260651629072681,
            "y": 9.224894767275783e-05
           },
           {
            "x": 6.280701754385965,
            "y": 9.988852423197103e-05
           },
           {
            "x": 6.3007518796992485,
            "y": 0.0001081195617770239
           },
           {
            "x": 6.320802005012531,
            "y": 0.00011698428731872731
           },
           {
            "x": 6.340852130325814,
            "y": 0.00012652764984195862
           },
           {
            "x": 6.360902255639098,
            "y": 0.0001367974730035962
           },
           {
            "x": 6.380952380952381,
            "y": 0.0001478446147228906
           },
           {
            "x": 6.401002506265664,
            "y": 0.00015972313385759945
           },
           {
            "x": 6.421052631578947,
            "y": 0.00017249046415619777
           },
           {
            "x": 6.4411027568922306,
            "y": 0.00018620759567268425
           },
           {
            "x": 6.461152882205514,
            "y": 0.00020093926382586412
           },
           {
            "x": 6.481203007518797,
            "y": 0.0002167541462795139
           },
           {
            "x": 6.50125313283208,
            "y": 0.00023372506781337254
           },
           {
            "x": 6.521303258145363,
            "y": 0.00025192921334751415
           },
           {
            "x": 6.541353383458647,
            "y": 0.00027144834927424725
           },
           {
            "x": 6.56140350877193,
            "y": 0.0002923690532421814
           },
           {
            "x": 6.581453634085213,
            "y": 0.0003147829525265218
           },
           {
            "x": 6.601503759398496,
            "y": 0.00033878697110785775
           },
           {
            "x": 6.62155388471178,
            "y": 0.00036448358556879964
           },
           {
            "x": 6.641604010025063,
            "y": 0.00039198108990356985
           },
           {
            "x": 6.661654135338345,
            "y": 0.0004213938693201866
           },
           {
            "x": 6.681704260651629,
            "y": 0.0004528426830980278
           },
           {
            "x": 6.701754385964913,
            "y": 0.0004864549565454064
           },
           {
            "x": 6.7218045112781954,
            "y": 0.0005223650820821845
           },
           {
            "x": 6.741854636591478,
            "y": 0.0005607147294514288
           },
           {
            "x": 6.761904761904762,
            "y": 0.0006016531650416472
           },
           {
            "x": 6.7819548872180455,
            "y": 0.0006453375802771277
           },
           {
            "x": 6.802005012531328,
            "y": 0.0006919334290085212
           },
           {
            "x": 6.822055137844611,
            "y": 0.0007416147738086803
           },
           {
            "x": 6.842105263157895,
            "y": 0.0007945646410502977
           },
           {
            "x": 6.862155388471178,
            "y": 0.0008509753846117652
           },
           {
            "x": 6.882205513784461,
            "y": 0.0009110490580260479
           },
           {
            "x": 6.902255639097744,
            "y": 0.0009749977948541138
           },
           {
            "x": 6.9223057644110275,
            "y": 0.0010430441970297757
           },
           {
            "x": 6.942355889724311,
            "y": 0.00111542173088647
           },
           {
            "x": 6.962406015037594,
            "y": 0.0011923751305388012
           },
           {
            "x": 6.982456140350877,
            "y": 0.0012741608082523347
           },
           {
            "x": 7.00250626566416,
            "y": 0.0013610472713944787
           },
           {
            "x": 7.022556390977444,
            "y": 0.0014533155455171574
           },
           {
            "x": 7.042606516290727,
            "y": 0.0015512596030785866
           },
           {
            "x": 7.0626566416040095,
            "y": 0.0016551867972666647
           },
           {
            "x": 7.082706766917293,
            "y": 0.0017654183003405568
           },
           {
            "x": 7.102756892230577,
            "y": 0.0018822895458598938
           },
           {
            "x": 7.12280701754386,
            "y": 0.0020061506741230095
           },
           {
            "x": 7.142857142857142,
            "y": 0.002137366980086275
           },
           {
            "x": 7.162907268170426,
            "y": 0.0022763193629867394
           },
           {
            "x": 7.18295739348371,
            "y": 0.0024234047768395333
           },
           {
            "x": 7.203007518796992,
            "y": 0.002579036680930118
           },
           {
            "x": 7.223057644110275,
            "y": 0.0027436454893696345
           },
           {
            "x": 7.243107769423559,
            "y": 0.002917679018729261
           },
           {
            "x": 7.2631578947368425,
            "y": 0.003101602932717346
           },
           {
            "x": 7.283208020050125,
            "y": 0.003295901182810418
           },
           {
            "x": 7.303258145363408,
            "y": 0.003501076443697031
           },
           {
            "x": 7.323308270676692,
            "y": 0.0037176505423413145
           },
           {
            "x": 7.343358395989975,
            "y": 0.0039461648794216495
           },
           {
            "x": 7.363408521303258,
            "y": 0.0041871808418492765
           },
           {
            "x": 7.383458646616541,
            "y": 0.004441280205021582
           },
           {
            "x": 7.4035087719298245,
            "y": 0.004709065523416134
           },
           {
            "x": 7.423558897243108,
            "y": 0.004991160508084286
           },
           {
            "x": 7.443609022556391,
            "y": 0.0052882103895572925
           },
           {
            "x": 7.463659147869674,
            "y": 0.005600882264633908
           },
           {
            "x": 7.483709273182957,
            "y": 0.0059298654254765545
           },
           {
            "x": 7.503759398496241,
            "y": 0.00627587166940341
           },
           {
            "x": 7.523809523809524,
            "y": 0.006639635587727164
           },
           {
            "x": 7.5438596491228065,
            "y": 0.00702191483195643
           },
           {
            "x": 7.56390977443609,
            "y": 0.007423490355644917
           },
           {
            "x": 7.583959899749374,
            "y": 0.00784516663014584
           },
           {
            "x": 7.6040100250626566,
            "y": 0.00828777183250457
           },
           {
            "x": 7.624060150375939,
            "y": 0.008752158003702458
           },
           {
            "x": 7.644110275689223,
            "y": 0.009239201175448339
           },
           {
            "x": 7.664160401002507,
            "y": 0.009749801463702544
           },
           {
            "x": 7.684210526315789,
            "y": 0.010284883127111384
           },
           {
            "x": 7.704260651629072,
            "y": 0.010845394588527315
           },
           {
            "x": 7.724310776942356,
            "y": 0.01143230841779309
           },
           {
            "x": 7.7443609022556394,
            "y": 0.01204662127397674
           },
           {
            "x": 7.764411027568922,
            "y": 0.012689353805257838
           },
           {
            "x": 7.784461152882205,
            "y": 0.013361550504685394
           },
           {
            "x": 7.804511278195489,
            "y": 0.014064279520053354
           },
           {
            "x": 7.824561403508772,
            "y": 0.014798632416171638
           },
           {
            "x": 7.844611528822055,
            "y": 0.015565723887849946
           },
           {
            "x": 7.864661654135338,
            "y": 0.016366691421955227
           },
           {
            "x": 7.8847117794486214,
            "y": 0.017202694906956542
           },
           {
            "x": 7.904761904761905,
            "y": 0.01807491618842946
           },
           {
            "x": 7.924812030075188,
            "y": 0.018984558569057855
           },
           {
            "x": 7.944862155388471,
            "y": 0.019932846251743522
           },
           {
            "x": 7.964912280701754,
            "y": 0.020921023724514248
           },
           {
            "x": 7.984962406015038,
            "y": 0.021950355086007626
           },
           {
            "x": 8.00501253132832,
            "y": 0.023022123310403323
           },
           {
            "x": 8.025062656641603,
            "y": 0.024137629450776937
           },
           {
            "x": 8.045112781954888,
            "y": 0.025298191779957582
           },
           {
            "x": 8.06516290726817,
            "y": 0.026505144868087874
           },
           {
            "x": 8.085213032581454,
            "y": 0.027759838596208307
           },
           {
            "x": 8.105263157894736,
            "y": 0.029063637105315634
           },
           {
            "x": 8.125313283208019,
            "y": 0.0304179176804848
           },
           {
            "x": 8.145363408521304,
            "y": 0.03182406956978489
           },
           {
            "x": 8.165413533834586,
            "y": 0.033283492737869985
           },
           {
            "x": 8.185463659147869,
            "y": 0.03479759655428342
           },
           {
            "x": 8.205513784461154,
            "y": 0.0363677984166719
           },
           {
            "x": 8.225563909774436,
            "y": 0.037995522309277
           },
           {
            "x": 8.24561403508772,
            "y": 0.03968219729724392
           },
           {
            "x": 8.265664160401002,
            "y": 0.04142925595746125
           },
           {
            "x": 8.285714285714285,
            "y": 0.043238132746832726
           },
           {
            "x": 8.30576441102757,
            "y": 0.045110262309064154
           },
           {
            "x": 8.325814536340852,
            "y": 0.04704707772123961
           },
           {
            "x": 8.345864661654135,
            "y": 0.049050008681655835
           },
           {
            "x": 8.36591478696742,
            "y": 0.051120479640574305
           },
           {
            "x": 8.385964912280702,
            "y": 0.05325990787575257
           },
           {
            "x": 8.406015037593985,
            "y": 0.0554697015148146
           },
           {
            "x": 8.426065162907268,
            "y": 0.05775125750671532
           },
           {
            "x": 8.44611528822055,
            "y": 0.06010595954476109
           },
           {
            "x": 8.466165413533835,
            "y": 0.06253517594384154
           },
           {
            "x": 8.486215538847118,
            "y": 0.06504025747473029
           },
           {
            "x": 8.5062656641604,
            "y": 0.0676225351585086
           },
           {
            "x": 8.526315789473685,
            "y": 0.07028331802435689
           },
           {
            "x": 8.546365914786968,
            "y": 0.07302389083415334
           },
           {
            "x": 8.56641604010025,
            "y": 0.07584551177750817
           },
           {
            "x": 8.586466165413533,
            "y": 0.07874941014103654
           },
           {
            "x": 8.606516290726816,
            "y": 0.0817367839558597
           },
           {
            "x": 8.6265664160401,
            "y": 0.08480879762748911
           },
           {
            "x": 8.646616541353383,
            "y": 0.087966579552413
           },
           {
            "x": 8.666666666666666,
            "y": 0.09121121972586776
           },
           {
            "x": 8.68671679197995,
            "y": 0.09454376734541287
           },
           {
            "x": 8.706766917293233,
            "y": 0.09796522841507893
           },
           {
            "x": 8.726817042606516,
            "y": 0.1014765633549859
           },
           {
            "x": 8.746867167919799,
            "y": 0.10507868462143832
           },
           {
            "x": 8.766917293233082,
            "y": 0.10877245434262678
           },
           {
            "x": 8.786967418546366,
            "y": 0.11255868197515151
           },
           {
            "x": 8.807017543859649,
            "y": 0.11643812198666764
           },
           {
            "x": 8.827067669172932,
            "y": 0.12041147157003451
           },
           {
            "x": 8.847117794486216,
            "y": 0.12447936839439017
           },
           {
            "x": 8.867167919799499,
            "y": 0.12864238839863207
           },
           {
            "x": 8.887218045112782,
            "y": 0.13290104363280858
           },
           {
            "x": 8.907268170426065,
            "y": 0.137255780152935
           },
           {
            "x": 8.927318295739347,
            "y": 0.14170697597475457
           },
           {
            "x": 8.947368421052632,
            "y": 0.14625493909194287
           },
           {
            "x": 8.967418546365915,
            "y": 0.15089990556422028
           },
           {
            "x": 8.987468671679197,
            "y": 0.15564203768079649
           },
           {
            "x": 9.007518796992482,
            "y": 0.16048142220448947
           },
           {
            "x": 9.027568922305765,
            "y": 0.165418068701793
           },
           {
            "x": 9.047619047619047,
            "y": 0.17045190796406506
           },
           {
            "x": 9.06766917293233,
            "y": 0.17558279052488512
           },
           {
            "x": 9.087719298245613,
            "y": 0.18081048527850485
           },
           {
            "x": 9.107769423558898,
            "y": 0.18613467820416568
           },
           {
            "x": 9.12781954887218,
            "y": 0.19155497120088422
           },
           {
            "x": 9.147869674185463,
            "y": 0.1970708810371396
           },
           {
            "x": 9.167919799498748,
            "y": 0.2026818384196778
           },
           {
            "x": 9.18796992481203,
            "y": 0.20838718718545224
           },
           {
            "x": 9.208020050125313,
            "y": 0.21418618362048836
           },
           {
            "x": 9.228070175438596,
            "y": 0.22007799590920363
           },
           {
            "x": 9.248120300751879,
            "y": 0.22606170371747497
           },
           {
            "x": 9.268170426065163,
            "y": 0.23213629791246065
           },
           {
            "x": 9.288220551378446,
            "y": 0.23830068042190528
           },
           {
            "x": 9.308270676691729,
            "y": 0.24455366423536418
           },
           {
            "x": 9.328320802005013,
            "y": 0.2508939735494635
           },
           {
            "x": 9.348370927318296,
            "y": 0.257320244059004
           },
           {
            "x": 9.368421052631579,
            "y": 0.26383102339539183
           },
           {
            "x": 9.388471177944862,
            "y": 0.2704247717135261
           },
           {
            "x": 9.408521303258144,
            "y": 0.2770998624279455
           },
           {
            "x": 9.428571428571429,
            "y": 0.28385458309867634
           },
           {
            "x": 9.448621553884712,
            "y": 0.2906871364668633
           },
           {
            "x": 9.468671679197994,
            "y": 0.29759564163991636
           },
           {
            "x": 9.488721804511279,
            "y": 0.3045781354255205
           },
           {
            "x": 9.508771929824562,
            "y": 0.31163257381350185
           },
           {
            "x": 9.528822055137844,
            "y": 0.3187568336041765
           },
           {
            "x": 9.548872180451127,
            "y": 0.32594871418141924
           },
           {
            "x": 9.56892230576441,
            "y": 0.33320593942834376
           },
           {
            "x": 9.588972431077694,
            "y": 0.3405261597831046
           },
           {
            "x": 9.609022556390977,
            "y": 0.34790695443196973
           },
           {
            "x": 9.62907268170426,
            "y": 0.3553458336364673
           },
           {
            "x": 9.649122807017545,
            "y": 0.36284024119103453
           },
           {
            "x": 9.669172932330827,
            "y": 0.37038755700726894
           },
           {
            "x": 9.68922305764411,
            "y": 0.3779850998205488
           },
           {
            "x": 9.709273182957393,
            "y": 0.3856301300144382
           },
           {
            "x": 9.729323308270676,
            "y": 0.3933198525580012
           },
           {
            "x": 9.74937343358396,
            "y": 0.4010514200508295
           },
           {
            "x": 9.769423558897243,
            "y": 0.4088219358702941
           },
           {
            "x": 9.789473684210526,
            "y": 0.4166284574152675
           },
           {
            "x": 9.80952380952381,
            "y": 0.4244679994402742
           },
           {
            "x": 9.829573934837093,
            "y": 0.43233753747379694
           },
           {
            "x": 9.849624060150376,
            "y": 0.4402340113142357
           },
           {
            "x": 9.869674185463658,
            "y": 0.44815432859677884
           },
           {
            "x": 9.889724310776941,
            "y": 0.4560953684242768
           },
           {
            "x": 9.909774436090226,
            "y": 0.4640539850550108
           },
           {
            "x": 9.929824561403509,
            "y": 0.47202701164009636
           },
           {
            "x": 9.949874686716791,
            "y": 0.48001126400313143
           },
           {
            "x": 9.969924812030076,
            "y": 0.48800354445456023
           },
           {
            "x": 9.989974937343359,
            "y": 0.49600064563314405
           },
           {
            "x": 10.010025062656641,
            "y": 0.503999354366856
           },
           {
            "x": 10.030075187969924,
            "y": 0.5119964555454397
           },
           {
            "x": 10.050125313283207,
            "y": 0.5199887359968678
           },
           {
            "x": 10.070175438596491,
            "y": 0.5279729883599037
           },
           {
            "x": 10.090225563909774,
            "y": 0.5359460149449892
           },
           {
            "x": 10.110275689223057,
            "y": 0.5439046315757226
           },
           {
            "x": 10.130325814536342,
            "y": 0.5518456714032212
           },
           {
            "x": 10.150375939849624,
            "y": 0.5597659886857643
           },
           {
            "x": 10.170426065162907,
            "y": 0.567662462526203
           },
           {
            "x": 10.19047619047619,
            "y": 0.5755320005597258
           },
           {
            "x": 10.210526315789473,
            "y": 0.5833715425847318
           },
           {
            "x": 10.230576441102757,
            "y": 0.5911780641297059
           },
           {
            "x": 10.25062656641604,
            "y": 0.5989485799491705
           },
           {
            "x": 10.270676691729323,
            "y": 0.606680147441998
           },
           {
            "x": 10.290726817042607,
            "y": 0.6143698699855618
           },
           {
            "x": 10.31077694235589,
            "y": 0.6220149001794512
           },
           {
            "x": 10.330827067669173,
            "y": 0.629612442992731
           },
           {
            "x": 10.350877192982455,
            "y": 0.6371597588089655
           },
           {
            "x": 10.370927318295738,
            "y": 0.644654166363532
           },
           {
            "x": 10.390977443609023,
            "y": 0.6520930455680303
           },
           {
            "x": 10.411027568922306,
            "y": 0.6594738402168954
           },
           {
            "x": 10.431077694235588,
            "y": 0.6667940605716556
           },
           {
            "x": 10.451127819548873,
            "y": 0.6740512858185808
           },
           {
            "x": 10.471177944862156,
            "y": 0.6812431663958235
           },
           {
            "x": 10.491228070175438,
            "y": 0.6883674261864982
           },
           {
            "x": 10.511278195488721,
            "y": 0.6954218645744795
           },
           {
            "x": 10.531328320802004,
            "y": 0.702404358360083
           },
           {
            "x": 10.551378446115288,
            "y": 0.7093128635331367
           },
           {
            "x": 10.571428571428571,
            "y": 0.7161454169013237
           },
           {
            "x": 10.591478696741854,
            "y": 0.7229001375720538
           },
           {
            "x": 10.611528822055138,
            "y": 0.7295752282864739
           },
           {
            "x": 10.631578947368421,
            "y": 0.7361689766046082
           },
           {
            "x": 10.651629072681704,
            "y": 0.742679755940996
           },
           {
            "x": 10.671679197994987,
            "y": 0.7491060264505365
           },
           {
            "x": 10.69172932330827,
            "y": 0.7554463357646353
           },
           {
            "x": 10.711779448621554,
            "y": 0.7616993195780948
           },
           {
            "x": 10.731829573934837,
            "y": 0.7678637020875394
           },
           {
            "x": 10.75187969924812,
            "y": 0.7739382962825245
           },
           {
            "x": 10.771929824561404,
            "y": 0.7799220040907964
           },
           {
            "x": 10.791979949874687,
            "y": 0.7858138163795116
           },
           {
            "x": 10.81203007518797,
            "y": 0.7916128128145478
           },
           {
            "x": 10.832080200501252,
            "y": 0.7973181615803222
           },
           {
            "x": 10.852130325814535,
            "y": 0.8029291189628599
           },
           {
            "x": 10.87218045112782,
            "y": 0.8084450287991158
           },
           {
            "x": 10.892230576441102,
            "y": 0.8138653217958343
           },
           {
            "x": 10.912280701754385,
            "y": 0.8191895147214947
           },
           {
            "x": 10.93233082706767,
            "y": 0.8244172094751149
           },
           {
            "x": 10.952380952380953,
            "y": 0.8295480920359349
           },
           {
            "x": 10.972431077694235,
            "y": 0.834581931298207
           },
           {
            "x": 10.992481203007518,
            "y": 0.8395185777955105
           },
           {
            "x": 11.0125313283208,
            "y": 0.8443579623192031
           },
           {
            "x": 11.032581453634085,
            "y": 0.8491000944357797
           },
           {
            "x": 11.052631578947368,
            "y": 0.8537450609080571
           },
           {
            "x": 11.072681704260651,
            "y": 0.858293024025245
           },
           {
            "x": 11.092731829573935,
            "y": 0.862744219847065
           },
           {
            "x": 11.112781954887218,
            "y": 0.8670989563671914
           },
           {
            "x": 11.132832080200501,
            "y": 0.8713576116013679
           },
           {
            "x": 11.152882205513784,
            "y": 0.8755206316056099
           },
           {
            "x": 11.172932330827066,
            "y": 0.8795885284299652
           },
           {
            "x": 11.192982456140351,
            "y": 0.8835618780133323
           },
           {
            "x": 11.213032581453634,
            "y": 0.8874413180248485
           },
           {
            "x": 11.233082706766917,
            "y": 0.8912275456573728
           },
           {
            "x": 11.253132832080201,
            "y": 0.8949213153785617
           },
           {
            "x": 11.273182957393484,
            "y": 0.8985234366450141
           },
           {
            "x": 11.293233082706767,
            "y": 0.9020347715849211
           },
           {
            "x": 11.31328320802005,
            "y": 0.9054562326545872
           },
           {
            "x": 11.333333333333332,
            "y": 0.9087887802741319
           },
           {
            "x": 11.353383458646617,
            "y": 0.9120334204475871
           },
           {
            "x": 11.3734335839599,
            "y": 0.9151912023725108
           },
           {
            "x": 11.393483709273182,
            "y": 0.91826321604414
           },
           {
            "x": 11.413533834586467,
            "y": 0.9212505898589635
           },
           {
            "x": 11.43358395989975,
            "y": 0.9241544882224918
           },
           {
            "x": 11.453634085213032,
            "y": 0.9269761091658466
           },
           {
            "x": 11.473684210526315,
            "y": 0.9297166819756431
           },
           {
            "x": 11.493734335839598,
            "y": 0.9323774648414912
           },
           {
            "x": 11.513784461152882,
            "y": 0.9349597425252697
           },
           {
            "x": 11.533834586466165,
            "y": 0.9374648240561585
           },
           {
            "x": 11.553884711779448,
            "y": 0.9398940404552387
           },
           {
            "x": 11.573934837092732,
            "y": 0.9422487424932847
           },
           {
            "x": 11.593984962406015,
            "y": 0.9445302984851854
           },
           {
            "x": 11.614035087719298,
            "y": 0.9467400921242475
           },
           {
            "x": 11.63408521303258,
            "y": 0.9488795203594257
           },
           {
            "x": 11.654135338345863,
            "y": 0.950949991318344
           },
           {
            "x": 11.674185463659148,
            "y": 0.9529529222787604
           },
           {
            "x": 11.69423558897243,
            "y": 0.9548897376909359
           },
           {
            "x": 11.714285714285714,
            "y": 0.9567618672531671
           },
           {
            "x": 11.734335839598998,
            "y": 0.9585707440425387
           },
           {
            "x": 11.75438596491228,
            "y": 0.9603178027027561
           },
           {
            "x": 11.774436090225564,
            "y": 0.9620044776907231
           },
           {
            "x": 11.794486215538846,
            "y": 0.9636322015833281
           },
           {
            "x": 11.81453634085213,
            "y": 0.9652024034457165
           },
           {
            "x": 11.834586466165414,
            "y": 0.96671650726213
           },
           {
            "x": 11.854636591478696,
            "y": 0.9681759304302151
           },
           {
            "x": 11.87468671679198,
            "y": 0.969582082319515
           },
           {
            "x": 11.894736842105264,
            "y": 0.9709363628946843
           },
           {
            "x": 11.914786967418546,
            "y": 0.9722401614037917
           },
           {
            "x": 11.93483709273183,
            "y": 0.9734948551319121
           },
           {
            "x": 11.954887218045112,
            "y": 0.9747018082200424
           },
           {
            "x": 11.974937343358395,
            "y": 0.975862370549223
           },
           {
            "x": 11.99498746867168,
            "y": 0.9769778766895967
           },
           {
            "x": 12.015037593984962,
            "y": 0.9780496449139924
           },
           {
            "x": 12.035087719298245,
            "y": 0.9790789762754857
           },
           {
            "x": 12.05513784461153,
            "y": 0.9800671537482565
           },
           {
            "x": 12.075187969924812,
            "y": 0.9810154414309421
           },
           {
            "x": 12.095238095238095,
            "y": 0.9819250838115705
           },
           {
            "x": 12.115288220551378,
            "y": 0.9827973050930434
           },
           {
            "x": 12.13533834586466,
            "y": 0.9836333085780447
           },
           {
            "x": 12.155388471177945,
            "y": 0.9844342761121501
           },
           {
            "x": 12.175438596491228,
            "y": 0.9852013675838284
           },
           {
            "x": 12.19548872180451,
            "y": 0.9859357204799466
           },
           {
            "x": 12.215538847117795,
            "y": 0.9866384494953147
           },
           {
            "x": 12.235588972431078,
            "y": 0.9873106461947422
           },
           {
            "x": 12.25563909774436,
            "y": 0.9879533787260233
           },
           {
            "x": 12.275689223057643,
            "y": 0.9885676915822069
           },
           {
            "x": 12.295739348370926,
            "y": 0.9891546054114726
           },
           {
            "x": 12.31578947368421,
            "y": 0.9897151168728886
           },
           {
            "x": 12.335839598997493,
            "y": 0.9902501985362975
           },
           {
            "x": 12.355889724310776,
            "y": 0.9907607988245517
           },
           {
            "x": 12.37593984962406,
            "y": 0.9912478419962976
           },
           {
            "x": 12.395989974937343,
            "y": 0.9917122281674954
           },
           {
            "x": 12.416040100250626,
            "y": 0.9921548333698541
           },
           {
            "x": 12.436090225563909,
            "y": 0.9925765096443551
           },
           {
            "x": 12.456140350877192,
            "y": 0.9929780851680435
           },
           {
            "x": 12.476190476190476,
            "y": 0.9933603644122728
           },
           {
            "x": 12.496240601503759,
            "y": 0.9937241283305966
           },
           {
            "x": 12.516290726817042,
            "y": 0.9940701345745234
           },
           {
            "x": 12.536340852130326,
            "y": 0.994399117735366
           },
           {
            "x": 12.556390977443609,
            "y": 0.9947117896104427
           },
           {
            "x": 12.576441102756892,
            "y": 0.9950088394919158
           },
           {
            "x": 12.596491228070175,
            "y": 0.9952909344765839
           },
           {
            "x": 12.616541353383457,
            "y": 0.9955587197949783
           },
           {
            "x": 12.636591478696742,
            "y": 0.9958128191581507
           },
           {
            "x": 12.656641604010025,
            "y": 0.9960538351205783
           },
           {
            "x": 12.676691729323307,
            "y": 0.9962823494576587
           },
           {
            "x": 12.696741854636592,
            "y": 0.996498923556303
           },
           {
            "x": 12.716791979949875,
            "y": 0.9967040988171896
           },
           {
            "x": 12.736842105263158,
            "y": 0.9968983970672827
           },
           {
            "x": 12.75689223057644,
            "y": 0.9970823209812707
           },
           {
            "x": 12.776942355889723,
            "y": 0.9972563545106303
           },
           {
            "x": 12.796992481203008,
            "y": 0.9974209633190699
           },
           {
            "x": 12.81704260651629,
            "y": 0.9975765952231604
           },
           {
            "x": 12.837092731829573,
            "y": 0.9977236806370132
           },
           {
            "x": 12.857142857142858,
            "y": 0.9978626330199137
           },
           {
            "x": 12.87719298245614,
            "y": 0.997993849325877
           },
           {
            "x": 12.897243107769423,
            "y": 0.9981177104541401
           },
           {
            "x": 12.917293233082706,
            "y": 0.9982345816996594
           },
           {
            "x": 12.937343358395989,
            "y": 0.9983448132027333
           },
           {
            "x": 12.957393483709273,
            "y": 0.9984487403969214
           },
           {
            "x": 12.977443609022556,
            "y": 0.9985466844544828
           },
           {
            "x": 12.997493734335839,
            "y": 0.9986389527286055
           },
           {
            "x": 13.017543859649123,
            "y": 0.9987258391917476
           },
           {
            "x": 13.037593984962406,
            "y": 0.9988076248694612
           },
           {
            "x": 13.057644110275689,
            "y": 0.9988845782691135
           },
           {
            "x": 13.077694235588972,
            "y": 0.9989569558029702
           },
           {
            "x": 13.097744360902254,
            "y": 0.9990250022051459
           },
           {
            "x": 13.117794486215539,
            "y": 0.9990889509419739
           },
           {
            "x": 13.137844611528822,
            "y": 0.9991490246153882
           },
           {
            "x": 13.157894736842104,
            "y": 0.9992054353589497
           },
           {
            "x": 13.177944862155389,
            "y": 0.9992583852261914
           },
           {
            "x": 13.197994987468672,
            "y": 0.9993080665709915
           },
           {
            "x": 13.218045112781954,
            "y": 0.9993546624197229
           },
           {
            "x": 13.238095238095237,
            "y": 0.9993983468349583
           },
           {
            "x": 13.25814536340852,
            "y": 0.9994392852705486
           },
           {
            "x": 13.278195488721805,
            "y": 0.9994776349179179
           },
           {
            "x": 13.298245614035087,
            "y": 0.9995135450434546
           },
           {
            "x": 13.31829573934837,
            "y": 0.999547157316902
           },
           {
            "x": 13.338345864661655,
            "y": 0.9995786061306798
           },
           {
            "x": 13.358395989974937,
            "y": 0.9996080189100964
           },
           {
            "x": 13.37844611528822,
            "y": 0.9996355164144312
           },
           {
            "x": 13.398496240601503,
            "y": 0.9996612130288921
           },
           {
            "x": 13.418546365914786,
            "y": 0.9996852170474735
           },
           {
            "x": 13.43859649122807,
            "y": 0.9997076309467579
           },
           {
            "x": 13.458646616541353,
            "y": 0.9997285516507257
           },
           {
            "x": 13.478696741854636,
            "y": 0.9997480707866525
           },
           {
            "x": 13.49874686716792,
            "y": 0.9997662749321866
           },
           {
            "x": 13.518796992481203,
            "y": 0.9997832458537205
           },
           {
            "x": 13.538847117794486,
            "y": 0.9997990607361741
           },
           {
            "x": 13.558897243107769,
            "y": 0.9998137924043273
           },
           {
            "x": 13.578947368421051,
            "y": 0.9998275095358438
           },
           {
            "x": 13.598997493734336,
            "y": 0.9998402768661424
           },
           {
            "x": 13.619047619047619,
            "y": 0.9998521553852772
           },
           {
            "x": 13.639097744360901,
            "y": 0.9998632025269965
           },
           {
            "x": 13.659147869674186,
            "y": 0.999873472350158
           },
           {
            "x": 13.679197994987469,
            "y": 0.9998830157126812
           },
           {
            "x": 13.699248120300751,
            "y": 0.999891880438223
           },
           {
            "x": 13.719298245614034,
            "y": 0.9999001114757681
           },
           {
            "x": 13.739348370927317,
            "y": 0.9999077510523272
           },
           {
            "x": 13.759398496240602,
            "y": 0.9999148388189385
           },
           {
            "x": 13.779448621553884,
            "y": 0.999921411990168
           },
           {
            "x": 13.799498746867167,
            "y": 0.9999275054773106
           },
           {
            "x": 13.819548872180452,
            "y": 0.9999331520154859
           },
           {
            "x": 13.839598997493734,
            "y": 0.9999383822848312
           },
           {
            "x": 13.859649122807017,
            "y": 0.999943225025985
           },
           {
            "x": 13.8796992481203,
            "y": 0.9999477071500608
           },
           {
            "x": 13.899749373433583,
            "y": 0.9999518538433037
           },
           {
            "x": 13.919799498746867,
            "y": 0.999955688666623
           },
           {
            "x": 13.93984962406015,
            "y": 0.9999592336501907
           },
           {
            "x": 13.959899749373433,
            "y": 0.9999625093832927
           },
           {
            "x": 13.979949874686717,
            "y": 0.9999655350996183
           },
           {
            "x": 14,
            "y": 0.9999683287581669
           }
          ]
         },
         "encoding": {
          "x": {
           "field": "x",
           "scale": {
            "zero": false
           },
           "type": "quantitative"
          },
          "y": {
           "field": "y",
           "type": "quantitative"
          }
         },
         "height": 500,
         "mark": {
          "color": "tomato",
          "type": "line"
         },
         "width": 800
        }
       ]
      },
      "image/png": "[encoded data removed]",
      "text/plain": [
       "<VegaLite 2 object>\n",
       "\n",
       "If you see this message, it means the renderer has not been properly enabled\n",
       "for the frontend that you are using. For more information, see\n",
       "https://altair-viz.github.io/user_guide/troubleshooting.html\n"
      ]
     },
     "execution_count": 140,
     "metadata": {},
     "output_type": "execute_result"
    }
   ],
   "source": [
    "x, y = bootcamp_utils.ecdf_vals(x)\n",
    "\n",
    "\n",
    "x_theor = np.linspace(6 ,14 ,400)\n",
    "y_theor = scipy.stats.norm.cdf(x_theor, mu, sigma)\n",
    "\n",
    "df_cdf = pd.DataFrame(data={'x': x_theor,\n",
    "                            'y': y_theor})\n",
    "\n",
    "\n",
    "df_ecdf = pd.DataFrame(data={'x': x[::1000],\n",
    "                             'y': y[::1000]})\n",
    "\n",
    "\n",
    "ecdf = alt.Chart(df_ecdf,\n",
    "                 height=500,\n",
    "                 width=800\n",
    "    ).mark_line(interpolate='step'\n",
    "    ).encode(\n",
    "        x=alt.X('x:Q', scale=alt.Scale(zero=False)),\n",
    "        y='y:Q')\n",
    "\n",
    "cdf = alt.Chart(df_cdf,\n",
    "                 height=500,\n",
    "                 width=800\n",
    "    ).mark_line(color='tomato'\n",
    "    ).encode(\n",
    "        x=alt.X('x:Q', scale=alt.Scale(zero=False)),\n",
    "        y='y:Q')\n",
    "\n",
    "ecdf + cdf"
   ]
  },
  {
   "cell_type": "code",
   "execution_count": 164,
   "metadata": {},
   "outputs": [
    {
     "data": {
      "text/plain": [
       "'TCCGCCCCCTGTAATTATAAAGGTTATCCGACCACAGGAAGAAATGGAATCCCAATCAACCTTAATTAGA'"
      ]
     },
     "execution_count": 164,
     "metadata": {},
     "output_type": "execute_result"
    }
   ],
   "source": [
    "bases = ['A', 'C', 'G', 'T']\n",
    "\"\".join(np.random.choice(bases, replace=True, size=70))"
   ]
  },
  {
   "cell_type": "markdown",
   "metadata": {},
   "source": [
    "# Lesson 31\n",
    "## Hacker statistics"
   ]
  },
  {
   "cell_type": "code",
   "execution_count": 166,
   "metadata": {},
   "outputs": [
    {
     "data": {
      "text/html": [
       "<div>\n",
       "<style scoped>\n",
       "    .dataframe tbody tr th:only-of-type {\n",
       "        vertical-align: middle;\n",
       "    }\n",
       "\n",
       "    .dataframe tbody tr th {\n",
       "        vertical-align: top;\n",
       "    }\n",
       "\n",
       "    .dataframe thead th {\n",
       "        text-align: right;\n",
       "    }\n",
       "</style>\n",
       "<table border=\"1\" class=\"dataframe\">\n",
       "  <thead>\n",
       "    <tr style=\"text-align: right;\">\n",
       "      <th></th>\n",
       "      <th>band</th>\n",
       "      <th>beak depth (mm)</th>\n",
       "      <th>beak length (mm)</th>\n",
       "      <th>species</th>\n",
       "      <th>year</th>\n",
       "    </tr>\n",
       "  </thead>\n",
       "  <tbody>\n",
       "    <tr>\n",
       "      <th>0</th>\n",
       "      <td>20123</td>\n",
       "      <td>8.05</td>\n",
       "      <td>9.25</td>\n",
       "      <td>fortis</td>\n",
       "      <td>1973</td>\n",
       "    </tr>\n",
       "    <tr>\n",
       "      <th>1</th>\n",
       "      <td>20126</td>\n",
       "      <td>10.45</td>\n",
       "      <td>11.35</td>\n",
       "      <td>fortis</td>\n",
       "      <td>1973</td>\n",
       "    </tr>\n",
       "    <tr>\n",
       "      <th>2</th>\n",
       "      <td>20128</td>\n",
       "      <td>9.55</td>\n",
       "      <td>10.15</td>\n",
       "      <td>fortis</td>\n",
       "      <td>1973</td>\n",
       "    </tr>\n",
       "    <tr>\n",
       "      <th>3</th>\n",
       "      <td>20129</td>\n",
       "      <td>8.75</td>\n",
       "      <td>9.95</td>\n",
       "      <td>fortis</td>\n",
       "      <td>1973</td>\n",
       "    </tr>\n",
       "    <tr>\n",
       "      <th>4</th>\n",
       "      <td>20133</td>\n",
       "      <td>10.15</td>\n",
       "      <td>11.55</td>\n",
       "      <td>fortis</td>\n",
       "      <td>1973</td>\n",
       "    </tr>\n",
       "  </tbody>\n",
       "</table>\n",
       "</div>"
      ],
      "text/plain": [
       "    band  beak depth (mm)  beak length (mm) species  year\n",
       "0  20123             8.05              9.25  fortis  1973\n",
       "1  20126            10.45             11.35  fortis  1973\n",
       "2  20128             9.55             10.15  fortis  1973\n",
       "3  20129             8.75              9.95  fortis  1973\n",
       "4  20133            10.15             11.55  fortis  1973"
      ]
     },
     "execution_count": 166,
     "metadata": {},
     "output_type": "execute_result"
    }
   ],
   "source": [
    "df = pd.read_csv('../data/grant_complete.csv', comment='#')\n",
    "\n",
    "df.head()"
   ]
  },
  {
   "cell_type": "code",
   "execution_count": 167,
   "metadata": {},
   "outputs": [],
   "source": [
    "df = df.loc[(df['year'].isin([1975, 2012])) & (df['species'] == 'scandens'),\n",
    "            ['year','beak depth (mm)']]"
   ]
  },
  {
   "cell_type": "code",
   "execution_count": 168,
   "metadata": {},
   "outputs": [
    {
     "data": {
      "text/html": [
       "<div>\n",
       "<style scoped>\n",
       "    .dataframe tbody tr th:only-of-type {\n",
       "        vertical-align: middle;\n",
       "    }\n",
       "\n",
       "    .dataframe tbody tr th {\n",
       "        vertical-align: top;\n",
       "    }\n",
       "\n",
       "    .dataframe thead th {\n",
       "        text-align: right;\n",
       "    }\n",
       "</style>\n",
       "<table border=\"1\" class=\"dataframe\">\n",
       "  <thead>\n",
       "    <tr style=\"text-align: right;\">\n",
       "      <th></th>\n",
       "      <th>year</th>\n",
       "      <th>beak depth (mm)</th>\n",
       "    </tr>\n",
       "  </thead>\n",
       "  <tbody>\n",
       "    <tr>\n",
       "      <th>401</th>\n",
       "      <td>1975</td>\n",
       "      <td>8.4</td>\n",
       "    </tr>\n",
       "    <tr>\n",
       "      <th>402</th>\n",
       "      <td>1975</td>\n",
       "      <td>8.8</td>\n",
       "    </tr>\n",
       "    <tr>\n",
       "      <th>403</th>\n",
       "      <td>1975</td>\n",
       "      <td>8.4</td>\n",
       "    </tr>\n",
       "    <tr>\n",
       "      <th>404</th>\n",
       "      <td>1975</td>\n",
       "      <td>8.0</td>\n",
       "    </tr>\n",
       "    <tr>\n",
       "      <th>405</th>\n",
       "      <td>1975</td>\n",
       "      <td>7.9</td>\n",
       "    </tr>\n",
       "  </tbody>\n",
       "</table>\n",
       "</div>"
      ],
      "text/plain": [
       "     year  beak depth (mm)\n",
       "401  1975              8.4\n",
       "402  1975              8.8\n",
       "403  1975              8.4\n",
       "404  1975              8.0\n",
       "405  1975              7.9"
      ]
     },
     "execution_count": 168,
     "metadata": {},
     "output_type": "execute_result"
    }
   ],
   "source": [
    "df.head()"
   ]
  },
  {
   "cell_type": "code",
   "execution_count": 170,
   "metadata": {},
   "outputs": [
    {
     "data": {
      "application/vnd.vegalite.v2+json": {
       "$schema": "https://vega.github.io/schema/vega-lite/v2.4.3.json",
       "config": {
        "view": {
         "height": 300,
         "width": 400
        }
       },
       "data": {
        "values": [
         {
          "beak depth (mm)": 8.4,
          "ecdf": 0.16091954022988506,
          "year": 1975
         },
         {
          "beak depth (mm)": 8.8,
          "ecdf": 0.39080459770114945,
          "year": 1975
         },
         {
          "beak depth (mm)": 8.4,
          "ecdf": 0.1724137931034483,
          "year": 1975
         },
         {
          "beak depth (mm)": 8,
          "ecdf": 0.022988505747126436,
          "year": 1975
         },
         {
          "beak depth (mm)": 7.9,
          "ecdf": 0.011494252873563218,
          "year": 1975
         },
         {
          "beak depth (mm)": 8.9,
          "ecdf": 0.4482758620689655,
          "year": 1975
         },
         {
          "beak depth (mm)": 8.6,
          "ecdf": 0.26436781609195403,
          "year": 1975
         },
         {
          "beak depth (mm)": 8.5,
          "ecdf": 0.20689655172413793,
          "year": 1975
         },
         {
          "beak depth (mm)": 8.9,
          "ecdf": 0.45977011494252873,
          "year": 1975
         },
         {
          "beak depth (mm)": 9.1,
          "ecdf": 0.6091954022988506,
          "year": 1975
         },
         {
          "beak depth (mm)": 8.6,
          "ecdf": 0.27586206896551724,
          "year": 1975
         },
         {
          "beak depth (mm)": 9.8,
          "ecdf": 0.9195402298850575,
          "year": 1975
         },
         {
          "beak depth (mm)": 8.2,
          "ecdf": 0.06896551724137931,
          "year": 1975
         },
         {
          "beak depth (mm)": 9,
          "ecdf": 0.5057471264367817,
          "year": 1975
         },
         {
          "beak depth (mm)": 9.7,
          "ecdf": 0.8850574712643678,
          "year": 1975
         },
         {
          "beak depth (mm)": 8.6,
          "ecdf": 0.28735632183908044,
          "year": 1975
         },
         {
          "beak depth (mm)": 8.2,
          "ecdf": 0.08045977011494253,
          "year": 1975
         },
         {
          "beak depth (mm)": 9,
          "ecdf": 0.5172413793103449,
          "year": 1975
         },
         {
          "beak depth (mm)": 8.4,
          "ecdf": 0.1839080459770115,
          "year": 1975
         },
         {
          "beak depth (mm)": 8.6,
          "ecdf": 0.2988505747126437,
          "year": 1975
         },
         {
          "beak depth (mm)": 8.9,
          "ecdf": 0.47126436781609193,
          "year": 1975
         },
         {
          "beak depth (mm)": 9.1,
          "ecdf": 0.6206896551724138,
          "year": 1975
         },
         {
          "beak depth (mm)": 8.3,
          "ecdf": 0.10344827586206896,
          "year": 1975
         },
         {
          "beak depth (mm)": 8.7,
          "ecdf": 0.3448275862068966,
          "year": 1975
         },
         {
          "beak depth (mm)": 9.6,
          "ecdf": 0.8505747126436781,
          "year": 1975
         },
         {
          "beak depth (mm)": 8.5,
          "ecdf": 0.21839080459770116,
          "year": 1975
         },
         {
          "beak depth (mm)": 9.1,
          "ecdf": 0.632183908045977,
          "year": 1975
         },
         {
          "beak depth (mm)": 9,
          "ecdf": 0.5287356321839081,
          "year": 1975
         },
         {
          "beak depth (mm)": 9.2,
          "ecdf": 0.7126436781609196,
          "year": 1975
         },
         {
          "beak depth (mm)": 9.9,
          "ecdf": 0.9425287356321839,
          "year": 1975
         },
         {
          "beak depth (mm)": 8.6,
          "ecdf": 0.3103448275862069,
          "year": 1975
         },
         {
          "beak depth (mm)": 9.2,
          "ecdf": 0.7241379310344828,
          "year": 1975
         },
         {
          "beak depth (mm)": 8.4,
          "ecdf": 0.19540229885057472,
          "year": 1975
         },
         {
          "beak depth (mm)": 8.9,
          "ecdf": 0.4827586206896552,
          "year": 1975
         },
         {
          "beak depth (mm)": 8.5,
          "ecdf": 0.22988505747126436,
          "year": 1975
         },
         {
          "beak depth (mm)": 10.4,
          "ecdf": 0.9885057471264368,
          "year": 1975
         },
         {
          "beak depth (mm)": 9.6,
          "ecdf": 0.8620689655172413,
          "year": 1975
         },
         {
          "beak depth (mm)": 9.1,
          "ecdf": 0.6436781609195402,
          "year": 1975
         },
         {
          "beak depth (mm)": 9.3,
          "ecdf": 0.7586206896551724,
          "year": 1975
         },
         {
          "beak depth (mm)": 9.3,
          "ecdf": 0.7701149425287356,
          "year": 1975
         },
         {
          "beak depth (mm)": 8.8,
          "ecdf": 0.40229885057471265,
          "year": 1975
         },
         {
          "beak depth (mm)": 8.3,
          "ecdf": 0.11494252873563218,
          "year": 1975
         },
         {
          "beak depth (mm)": 8.8,
          "ecdf": 0.41379310344827586,
          "year": 1975
         },
         {
          "beak depth (mm)": 9.1,
          "ecdf": 0.6551724137931034,
          "year": 1975
         },
         {
          "beak depth (mm)": 10.1,
          "ecdf": 0.9540229885057471,
          "year": 1975
         },
         {
          "beak depth (mm)": 8.9,
          "ecdf": 0.4942528735632184,
          "year": 1975
         },
         {
          "beak depth (mm)": 9.2,
          "ecdf": 0.735632183908046,
          "year": 1975
         },
         {
          "beak depth (mm)": 8.5,
          "ecdf": 0.2413793103448276,
          "year": 1975
         },
         {
          "beak depth (mm)": 10.2,
          "ecdf": 0.9770114942528736,
          "year": 1975
         },
         {
          "beak depth (mm)": 10.1,
          "ecdf": 0.9655172413793104,
          "year": 1975
         },
         {
          "beak depth (mm)": 9.2,
          "ecdf": 0.7471264367816092,
          "year": 1975
         },
         {
          "beak depth (mm)": 9.7,
          "ecdf": 0.896551724137931,
          "year": 1975
         },
         {
          "beak depth (mm)": 9.1,
          "ecdf": 0.6666666666666666,
          "year": 1975
         },
         {
          "beak depth (mm)": 8.5,
          "ecdf": 0.25287356321839083,
          "year": 1975
         },
         {
          "beak depth (mm)": 8.2,
          "ecdf": 0.09195402298850575,
          "year": 1975
         },
         {
          "beak depth (mm)": 9,
          "ecdf": 0.5402298850574713,
          "year": 1975
         },
         {
          "beak depth (mm)": 9.3,
          "ecdf": 0.7816091954022989,
          "year": 1975
         },
         {
          "beak depth (mm)": 8,
          "ecdf": 0.034482758620689655,
          "year": 1975
         },
         {
          "beak depth (mm)": 9.1,
          "ecdf": 0.6781609195402298,
          "year": 1975
         },
         {
          "beak depth (mm)": 8.1,
          "ecdf": 0.05747126436781609,
          "year": 1975
         },
         {
          "beak depth (mm)": 8.3,
          "ecdf": 0.12643678160919541,
          "year": 1975
         },
         {
          "beak depth (mm)": 8.7,
          "ecdf": 0.3563218390804598,
          "year": 1975
         },
         {
          "beak depth (mm)": 8.8,
          "ecdf": 0.42528735632183906,
          "year": 1975
         },
         {
          "beak depth (mm)": 8.6,
          "ecdf": 0.3218390804597701,
          "year": 1975
         },
         {
          "beak depth (mm)": 8.7,
          "ecdf": 0.367816091954023,
          "year": 1975
         },
         {
          "beak depth (mm)": 8,
          "ecdf": 0.04597701149425287,
          "year": 1975
         },
         {
          "beak depth (mm)": 8.8,
          "ecdf": 0.4367816091954023,
          "year": 1975
         },
         {
          "beak depth (mm)": 9,
          "ecdf": 0.5517241379310345,
          "year": 1975
         },
         {
          "beak depth (mm)": 9.1,
          "ecdf": 0.6896551724137931,
          "year": 1975
         },
         {
          "beak depth (mm)": 9.74,
          "ecdf": 0.9080459770114943,
          "year": 1975
         },
         {
          "beak depth (mm)": 9.1,
          "ecdf": 0.7011494252873564,
          "year": 1975
         },
         {
          "beak depth (mm)": 9.8,
          "ecdf": 0.9310344827586207,
          "year": 1975
         },
         {
          "beak depth (mm)": 10.4,
          "ecdf": 1,
          "year": 1975
         },
         {
          "beak depth (mm)": 8.3,
          "ecdf": 0.13793103448275862,
          "year": 1975
         },
         {
          "beak depth (mm)": 9.44,
          "ecdf": 0.7931034482758621,
          "year": 1975
         },
         {
          "beak depth (mm)": 9.04,
          "ecdf": 0.5747126436781609,
          "year": 1975
         },
         {
          "beak depth (mm)": 9,
          "ecdf": 0.5632183908045977,
          "year": 1975
         },
         {
          "beak depth (mm)": 9.05,
          "ecdf": 0.5862068965517241,
          "year": 1975
         },
         {
          "beak depth (mm)": 9.65,
          "ecdf": 0.8735632183908046,
          "year": 1975
         },
         {
          "beak depth (mm)": 9.45,
          "ecdf": 0.8045977011494253,
          "year": 1975
         },
         {
          "beak depth (mm)": 8.65,
          "ecdf": 0.3333333333333333,
          "year": 1975
         },
         {
          "beak depth (mm)": 9.45,
          "ecdf": 0.8160919540229885,
          "year": 1975
         },
         {
          "beak depth (mm)": 9.45,
          "ecdf": 0.8275862068965517,
          "year": 1975
         },
         {
          "beak depth (mm)": 9.05,
          "ecdf": 0.5977011494252874,
          "year": 1975
         },
         {
          "beak depth (mm)": 8.75,
          "ecdf": 0.3793103448275862,
          "year": 1975
         },
         {
          "beak depth (mm)": 9.45,
          "ecdf": 0.8390804597701149,
          "year": 1975
         },
         {
          "beak depth (mm)": 8.35,
          "ecdf": 0.14942528735632185,
          "year": 1975
         },
         {
          "beak depth (mm)": 9.4,
          "ecdf": 0.5952380952380952,
          "year": 2012
         },
         {
          "beak depth (mm)": 9.5,
          "ecdf": 0.6587301587301587,
          "year": 2012
         },
         {
          "beak depth (mm)": 11,
          "ecdf": 1,
          "year": 2012
         },
         {
          "beak depth (mm)": 8.7,
          "ecdf": 0.20634920634920634,
          "year": 2012
         },
         {
          "beak depth (mm)": 8.4,
          "ecdf": 0.1111111111111111,
          "year": 2012
         },
         {
          "beak depth (mm)": 9.1,
          "ecdf": 0.4365079365079365,
          "year": 2012
         },
         {
          "beak depth (mm)": 8.7,
          "ecdf": 0.21428571428571427,
          "year": 2012
         },
         {
          "beak depth (mm)": 10.2,
          "ecdf": 0.9206349206349206,
          "year": 2012
         },
         {
          "beak depth (mm)": 9.6,
          "ecdf": 0.746031746031746,
          "year": 2012
         },
         {
          "beak depth (mm)": 8.85,
          "ecdf": 0.2857142857142857,
          "year": 2012
         },
         {
          "beak depth (mm)": 8.8,
          "ecdf": 0.24603174603174602,
          "year": 2012
         },
         {
          "beak depth (mm)": 9.5,
          "ecdf": 0.6666666666666666,
          "year": 2012
         },
         {
          "beak depth (mm)": 9.2,
          "ecdf": 0.49206349206349204,
          "year": 2012
         },
         {
          "beak depth (mm)": 9,
          "ecdf": 0.38095238095238093,
          "year": 2012
         },
         {
          "beak depth (mm)": 9.8,
          "ecdf": 0.8015873015873016,
          "year": 2012
         },
         {
          "beak depth (mm)": 9.3,
          "ecdf": 0.5238095238095238,
          "year": 2012
         },
         {
          "beak depth (mm)": 9,
          "ecdf": 0.3888888888888889,
          "year": 2012
         },
         {
          "beak depth (mm)": 10.2,
          "ecdf": 0.9285714285714286,
          "year": 2012
         },
         {
          "beak depth (mm)": 7.7,
          "ecdf": 0.007936507936507936,
          "year": 2012
         },
         {
          "beak depth (mm)": 9,
          "ecdf": 0.3968253968253968,
          "year": 2012
         },
         {
          "beak depth (mm)": 9.5,
          "ecdf": 0.6746031746031746,
          "year": 2012
         },
         {
          "beak depth (mm)": 9.4,
          "ecdf": 0.6031746031746031,
          "year": 2012
         },
         {
          "beak depth (mm)": 8,
          "ecdf": 0.03968253968253968,
          "year": 2012
         },
         {
          "beak depth (mm)": 8.9,
          "ecdf": 0.29365079365079366,
          "year": 2012
         },
         {
          "beak depth (mm)": 9.4,
          "ecdf": 0.6111111111111112,
          "year": 2012
         },
         {
          "beak depth (mm)": 9.5,
          "ecdf": 0.6825396825396826,
          "year": 2012
         },
         {
          "beak depth (mm)": 8,
          "ecdf": 0.047619047619047616,
          "year": 2012
         },
         {
          "beak depth (mm)": 10,
          "ecdf": 0.8809523809523809,
          "year": 2012
         },
         {
          "beak depth (mm)": 8.95,
          "ecdf": 0.373015873015873,
          "year": 2012
         },
         {
          "beak depth (mm)": 8.2,
          "ecdf": 0.07936507936507936,
          "year": 2012
         },
         {
          "beak depth (mm)": 8.8,
          "ecdf": 0.25396825396825395,
          "year": 2012
         },
         {
          "beak depth (mm)": 9.2,
          "ecdf": 0.5,
          "year": 2012
         },
         {
          "beak depth (mm)": 9.4,
          "ecdf": 0.6190476190476191,
          "year": 2012
         },
         {
          "beak depth (mm)": 9.5,
          "ecdf": 0.6904761904761905,
          "year": 2012
         },
         {
          "beak depth (mm)": 8.1,
          "ecdf": 0.06349206349206349,
          "year": 2012
         },
         {
          "beak depth (mm)": 9.5,
          "ecdf": 0.6984126984126984,
          "year": 2012
         },
         {
          "beak depth (mm)": 8.4,
          "ecdf": 0.11904761904761904,
          "year": 2012
         },
         {
          "beak depth (mm)": 9.3,
          "ecdf": 0.5317460317460317,
          "year": 2012
         },
         {
          "beak depth (mm)": 9.3,
          "ecdf": 0.5396825396825397,
          "year": 2012
         },
         {
          "beak depth (mm)": 9.6,
          "ecdf": 0.753968253968254,
          "year": 2012
         },
         {
          "beak depth (mm)": 9.2,
          "ecdf": 0.5079365079365079,
          "year": 2012
         },
         {
          "beak depth (mm)": 10,
          "ecdf": 0.8888888888888888,
          "year": 2012
         },
         {
          "beak depth (mm)": 8.9,
          "ecdf": 0.30158730158730157,
          "year": 2012
         },
         {
          "beak depth (mm)": 10.5,
          "ecdf": 0.9603174603174603,
          "year": 2012
         },
         {
          "beak depth (mm)": 8.9,
          "ecdf": 0.30952380952380953,
          "year": 2012
         },
         {
          "beak depth (mm)": 8.6,
          "ecdf": 0.19047619047619047,
          "year": 2012
         },
         {
          "beak depth (mm)": 8.8,
          "ecdf": 0.2619047619047619,
          "year": 2012
         },
         {
          "beak depth (mm)": 9.15,
          "ecdf": 0.48412698412698413,
          "year": 2012
         },
         {
          "beak depth (mm)": 9.5,
          "ecdf": 0.7063492063492064,
          "year": 2012
         },
         {
          "beak depth (mm)": 9.1,
          "ecdf": 0.4444444444444444,
          "year": 2012
         },
         {
          "beak depth (mm)": 10.2,
          "ecdf": 0.9365079365079365,
          "year": 2012
         },
         {
          "beak depth (mm)": 8.4,
          "ecdf": 0.12698412698412698,
          "year": 2012
         },
         {
          "beak depth (mm)": 10,
          "ecdf": 0.8968253968253969,
          "year": 2012
         },
         {
          "beak depth (mm)": 10.2,
          "ecdf": 0.9444444444444444,
          "year": 2012
         },
         {
          "beak depth (mm)": 9.3,
          "ecdf": 0.5476190476190477,
          "year": 2012
         },
         {
          "beak depth (mm)": 10.8,
          "ecdf": 0.9920634920634921,
          "year": 2012
         },
         {
          "beak depth (mm)": 8.3,
          "ecdf": 0.09523809523809523,
          "year": 2012
         },
         {
          "beak depth (mm)": 7.8,
          "ecdf": 0.023809523809523808,
          "year": 2012
         },
         {
          "beak depth (mm)": 9.8,
          "ecdf": 0.8095238095238095,
          "year": 2012
         },
         {
          "beak depth (mm)": 7.9,
          "ecdf": 0.031746031746031744,
          "year": 2012
         },
         {
          "beak depth (mm)": 8.9,
          "ecdf": 0.31746031746031744,
          "year": 2012
         },
         {
          "beak depth (mm)": 7.7,
          "ecdf": 0.015873015873015872,
          "year": 2012
         },
         {
          "beak depth (mm)": 8.9,
          "ecdf": 0.3253968253968254,
          "year": 2012
         },
         {
          "beak depth (mm)": 9.4,
          "ecdf": 0.626984126984127,
          "year": 2012
         },
         {
          "beak depth (mm)": 9.4,
          "ecdf": 0.6349206349206349,
          "year": 2012
         },
         {
          "beak depth (mm)": 8.5,
          "ecdf": 0.15873015873015872,
          "year": 2012
         },
         {
          "beak depth (mm)": 8.5,
          "ecdf": 0.16666666666666666,
          "year": 2012
         },
         {
          "beak depth (mm)": 9.6,
          "ecdf": 0.7619047619047619,
          "year": 2012
         },
         {
          "beak depth (mm)": 10.2,
          "ecdf": 0.9523809523809523,
          "year": 2012
         },
         {
          "beak depth (mm)": 8.8,
          "ecdf": 0.2698412698412698,
          "year": 2012
         },
         {
          "beak depth (mm)": 9.5,
          "ecdf": 0.7142857142857143,
          "year": 2012
         },
         {
          "beak depth (mm)": 9.3,
          "ecdf": 0.5555555555555556,
          "year": 2012
         },
         {
          "beak depth (mm)": 9,
          "ecdf": 0.40476190476190477,
          "year": 2012
         },
         {
          "beak depth (mm)": 9.2,
          "ecdf": 0.5158730158730159,
          "year": 2012
         },
         {
          "beak depth (mm)": 8.7,
          "ecdf": 0.2222222222222222,
          "year": 2012
         },
         {
          "beak depth (mm)": 9,
          "ecdf": 0.4126984126984127,
          "year": 2012
         },
         {
          "beak depth (mm)": 9.1,
          "ecdf": 0.4523809523809524,
          "year": 2012
         },
         {
          "beak depth (mm)": 8.7,
          "ecdf": 0.23015873015873015,
          "year": 2012
         },
         {
          "beak depth (mm)": 9.4,
          "ecdf": 0.6428571428571429,
          "year": 2012
         },
         {
          "beak depth (mm)": 9.8,
          "ecdf": 0.8174603174603174,
          "year": 2012
         },
         {
          "beak depth (mm)": 8.6,
          "ecdf": 0.1984126984126984,
          "year": 2012
         },
         {
          "beak depth (mm)": 10.6,
          "ecdf": 0.9761904761904762,
          "year": 2012
         },
         {
          "beak depth (mm)": 9,
          "ecdf": 0.42063492063492064,
          "year": 2012
         },
         {
          "beak depth (mm)": 9.5,
          "ecdf": 0.7222222222222222,
          "year": 2012
         },
         {
          "beak depth (mm)": 8.1,
          "ecdf": 0.07142857142857142,
          "year": 2012
         },
         {
          "beak depth (mm)": 9.3,
          "ecdf": 0.5634920634920635,
          "year": 2012
         },
         {
          "beak depth (mm)": 9.6,
          "ecdf": 0.7698412698412699,
          "year": 2012
         },
         {
          "beak depth (mm)": 8.5,
          "ecdf": 0.1746031746031746,
          "year": 2012
         },
         {
          "beak depth (mm)": 8.2,
          "ecdf": 0.0873015873015873,
          "year": 2012
         },
         {
          "beak depth (mm)": 8,
          "ecdf": 0.05555555555555555,
          "year": 2012
         },
         {
          "beak depth (mm)": 9.5,
          "ecdf": 0.7301587301587301,
          "year": 2012
         },
         {
          "beak depth (mm)": 9.7,
          "ecdf": 0.7857142857142857,
          "year": 2012
         },
         {
          "beak depth (mm)": 9.9,
          "ecdf": 0.8650793650793651,
          "year": 2012
         },
         {
          "beak depth (mm)": 9.1,
          "ecdf": 0.4603174603174603,
          "year": 2012
         },
         {
          "beak depth (mm)": 9.5,
          "ecdf": 0.7380952380952381,
          "year": 2012
         },
         {
          "beak depth (mm)": 9.8,
          "ecdf": 0.8253968253968254,
          "year": 2012
         },
         {
          "beak depth (mm)": 8.4,
          "ecdf": 0.1349206349206349,
          "year": 2012
         },
         {
          "beak depth (mm)": 8.3,
          "ecdf": 0.10317460317460317,
          "year": 2012
         },
         {
          "beak depth (mm)": 9.6,
          "ecdf": 0.7777777777777778,
          "year": 2012
         },
         {
          "beak depth (mm)": 9.4,
          "ecdf": 0.6507936507936508,
          "year": 2012
         },
         {
          "beak depth (mm)": 10,
          "ecdf": 0.9047619047619048,
          "year": 2012
         },
         {
          "beak depth (mm)": 8.9,
          "ecdf": 0.3333333333333333,
          "year": 2012
         },
         {
          "beak depth (mm)": 9.1,
          "ecdf": 0.46825396825396826,
          "year": 2012
         },
         {
          "beak depth (mm)": 9.8,
          "ecdf": 0.8333333333333334,
          "year": 2012
         },
         {
          "beak depth (mm)": 9.3,
          "ecdf": 0.5714285714285714,
          "year": 2012
         },
         {
          "beak depth (mm)": 9.9,
          "ecdf": 0.873015873015873,
          "year": 2012
         },
         {
          "beak depth (mm)": 8.9,
          "ecdf": 0.3412698412698413,
          "year": 2012
         },
         {
          "beak depth (mm)": 8.5,
          "ecdf": 0.18253968253968253,
          "year": 2012
         },
         {
          "beak depth (mm)": 10.6,
          "ecdf": 0.9841269841269841,
          "year": 2012
         },
         {
          "beak depth (mm)": 9.3,
          "ecdf": 0.5793650793650794,
          "year": 2012
         },
         {
          "beak depth (mm)": 8.9,
          "ecdf": 0.3492063492063492,
          "year": 2012
         },
         {
          "beak depth (mm)": 8.9,
          "ecdf": 0.35714285714285715,
          "year": 2012
         },
         {
          "beak depth (mm)": 9.7,
          "ecdf": 0.7936507936507936,
          "year": 2012
         },
         {
          "beak depth (mm)": 9.8,
          "ecdf": 0.8412698412698413,
          "year": 2012
         },
         {
          "beak depth (mm)": 10.5,
          "ecdf": 0.9682539682539683,
          "year": 2012
         },
         {
          "beak depth (mm)": 8.4,
          "ecdf": 0.14285714285714285,
          "year": 2012
         },
         {
          "beak depth (mm)": 10,
          "ecdf": 0.9126984126984127,
          "year": 2012
         },
         {
          "beak depth (mm)": 9,
          "ecdf": 0.42857142857142855,
          "year": 2012
         },
         {
          "beak depth (mm)": 8.7,
          "ecdf": 0.23809523809523808,
          "year": 2012
         },
         {
          "beak depth (mm)": 8.8,
          "ecdf": 0.2777777777777778,
          "year": 2012
         },
         {
          "beak depth (mm)": 8.4,
          "ecdf": 0.15079365079365079,
          "year": 2012
         },
         {
          "beak depth (mm)": 9.3,
          "ecdf": 0.5873015873015873,
          "year": 2012
         },
         {
          "beak depth (mm)": 9.8,
          "ecdf": 0.8492063492063492,
          "year": 2012
         },
         {
          "beak depth (mm)": 8.9,
          "ecdf": 0.36507936507936506,
          "year": 2012
         },
         {
          "beak depth (mm)": 9.8,
          "ecdf": 0.8571428571428571,
          "year": 2012
         },
         {
          "beak depth (mm)": 9.1,
          "ecdf": 0.47619047619047616,
          "year": 2012
         }
        ]
       },
       "encoding": {
        "color": {
         "field": "year",
         "type": "nominal"
        },
        "x": {
         "field": "beak depth (mm)",
         "scale": {
          "zero": false
         },
         "type": "quantitative"
        },
        "y": {
         "field": "ecdf",
         "type": "quantitative"
        }
       },
       "mark": "point"
      },
      "image/png": "[encoded data removed]",
      "text/plain": [
       "<VegaLite 2 object>\n",
       "\n",
       "If you see this message, it means the renderer has not been properly enabled\n",
       "for the frontend that you are using. For more information, see\n",
       "https://altair-viz.github.io/user_guide/troubleshooting.html\n"
      ]
     },
     "execution_count": 170,
     "metadata": {},
     "output_type": "execute_result"
    }
   ],
   "source": [
    "df['ecdf'] = df.groupby('year').transform(bootcamp_utils.ecdf_y)\n",
    "\n",
    "alt.Chart(df\n",
    "        ).mark_point(\n",
    "        ).encode(\n",
    "            x=alt.X('beak depth (mm):Q',scale=alt.Scale(zero=False)),\n",
    "            y='ecdf:Q',\n",
    "            color='year:N')"
   ]
  },
  {
   "cell_type": "code",
   "execution_count": 172,
   "metadata": {},
   "outputs": [
    {
     "data": {
      "text/plain": [
       "(8.959999999999999, 9.188492063492063)"
      ]
     },
     "execution_count": 172,
     "metadata": {},
     "output_type": "execute_result"
    }
   ],
   "source": [
    "bd_1975 = df.loc[df['year'] == 1975, 'beak depth (mm)'].values\n",
    "bd_2012 = df.loc[df['year'] == 2012, 'beak depth (mm)'].values\n",
    "\n",
    "np.mean(bd_1975), np.mean(bd_2012)"
   ]
  },
  {
   "cell_type": "code",
   "execution_count": 174,
   "metadata": {},
   "outputs": [
    {
     "data": {
      "text/plain": [
       "array([ 9.7 ,  9.7 ,  9.8 ,  8.3 ,  8.9 ,  9.45,  8.35,  9.44,  9.44,\n",
       "        8.7 ,  8.4 ,  9.1 ,  9.1 ,  8.8 ,  9.9 ,  9.1 ,  8.8 ,  8.6 ,\n",
       "        8.1 ,  8.9 ,  8.4 ,  9.04,  8.  ,  9.1 , 10.2 ,  9.1 ,  8.3 ,\n",
       "        8.1 ,  9.45,  9.7 ,  8.7 ,  8.7 ,  9.2 ,  8.7 ,  9.2 ,  8.2 ,\n",
       "        8.6 ,  8.4 ,  9.2 ,  8.6 ,  8.9 , 10.4 ,  9.3 ,  9.  ,  8.  ,\n",
       "        8.1 ,  9.  ,  8.9 ,  9.1 ,  8.8 ,  9.05,  8.1 ,  9.1 ,  9.1 ,\n",
       "        8.5 ,  9.2 ,  8.5 ,  9.05,  8.65, 10.4 , 10.1 ,  8.  ,  8.8 ,\n",
       "        8.9 ,  8.5 ,  8.  ,  8.5 ,  8.8 ,  9.  ,  9.1 ,  8.9 ,  8.3 ,\n",
       "        8.7 ,  9.  ,  8.5 ,  9.7 ,  9.8 ,  9.05,  8.35,  8.7 ,  9.3 ,\n",
       "        8.75,  9.45,  9.45,  9.1 ,  8.7 ,  8.5 ])"
      ]
     },
     "execution_count": 174,
     "metadata": {},
     "output_type": "execute_result"
    }
   ],
   "source": [
    "np .random.seed(42)\n",
    "\n",
    "bs_sample = [np.random.choice(bd_1975, replace=True, size=len(bd_1975))]\n"
   ]
  },
  {
   "cell_type": "code",
   "execution_count": 175,
   "metadata": {},
   "outputs": [
    {
     "data": {
      "text/plain": [
       "(87, 87)"
      ]
     },
     "execution_count": 175,
     "metadata": {},
     "output_type": "execute_result"
    }
   ],
   "source": [
    "bs_sample.size, bd_1975.size"
   ]
  },
  {
   "cell_type": "code",
   "execution_count": 183,
   "metadata": {},
   "outputs": [
    {
     "data": {
      "application/vnd.vegalite.v2+json": {
       "$schema": "https://vega.github.io/schema/vega-lite/v2.4.3.json",
       "config": {
        "view": {
         "height": 300,
         "width": 400
        }
       },
       "data": {
        "values": [
         {
          "beak depth (mm)": 8,
          "ecdf": 0.011494252873563218,
          "set": "bootstrap",
          "year": 1975
         },
         {
          "beak depth (mm)": 8,
          "ecdf": 0.022988505747126436,
          "set": "bootstrap",
          "year": 1975
         },
         {
          "beak depth (mm)": 8,
          "ecdf": 0.034482758620689655,
          "set": "bootstrap",
          "year": 1975
         },
         {
          "beak depth (mm)": 8,
          "ecdf": 0.04597701149425287,
          "set": "bootstrap",
          "year": 1975
         },
         {
          "beak depth (mm)": 8.1,
          "ecdf": 0.05747126436781609,
          "set": "bootstrap",
          "year": 1975
         },
         {
          "beak depth (mm)": 8.1,
          "ecdf": 0.06896551724137931,
          "set": "bootstrap",
          "year": 1975
         },
         {
          "beak depth (mm)": 8.1,
          "ecdf": 0.08045977011494253,
          "set": "bootstrap",
          "year": 1975
         },
         {
          "beak depth (mm)": 8.1,
          "ecdf": 0.09195402298850575,
          "set": "bootstrap",
          "year": 1975
         },
         {
          "beak depth (mm)": 8.2,
          "ecdf": 0.10344827586206896,
          "set": "bootstrap",
          "year": 1975
         },
         {
          "beak depth (mm)": 8.3,
          "ecdf": 0.11494252873563218,
          "set": "bootstrap",
          "year": 1975
         },
         {
          "beak depth (mm)": 8.3,
          "ecdf": 0.12643678160919541,
          "set": "bootstrap",
          "year": 1975
         },
         {
          "beak depth (mm)": 8.3,
          "ecdf": 0.13793103448275862,
          "set": "bootstrap",
          "year": 1975
         },
         {
          "beak depth (mm)": 8.35,
          "ecdf": 0.14942528735632185,
          "set": "bootstrap",
          "year": 1975
         },
         {
          "beak depth (mm)": 8.35,
          "ecdf": 0.16091954022988506,
          "set": "bootstrap",
          "year": 1975
         },
         {
          "beak depth (mm)": 8.4,
          "ecdf": 0.1724137931034483,
          "set": "bootstrap",
          "year": 1975
         },
         {
          "beak depth (mm)": 8.4,
          "ecdf": 0.1839080459770115,
          "set": "bootstrap",
          "year": 1975
         },
         {
          "beak depth (mm)": 8.4,
          "ecdf": 0.19540229885057472,
          "set": "bootstrap",
          "year": 1975
         },
         {
          "beak depth (mm)": 8.5,
          "ecdf": 0.20689655172413793,
          "set": "bootstrap",
          "year": 1975
         },
         {
          "beak depth (mm)": 8.5,
          "ecdf": 0.21839080459770116,
          "set": "bootstrap",
          "year": 1975
         },
         {
          "beak depth (mm)": 8.5,
          "ecdf": 0.22988505747126436,
          "set": "bootstrap",
          "year": 1975
         },
         {
          "beak depth (mm)": 8.5,
          "ecdf": 0.2413793103448276,
          "set": "bootstrap",
          "year": 1975
         },
         {
          "beak depth (mm)": 8.5,
          "ecdf": 0.25287356321839083,
          "set": "bootstrap",
          "year": 1975
         },
         {
          "beak depth (mm)": 8.5,
          "ecdf": 0.26436781609195403,
          "set": "bootstrap",
          "year": 1975
         },
         {
          "beak depth (mm)": 8.6,
          "ecdf": 0.27586206896551724,
          "set": "bootstrap",
          "year": 1975
         },
         {
          "beak depth (mm)": 8.6,
          "ecdf": 0.28735632183908044,
          "set": "bootstrap",
          "year": 1975
         },
         {
          "beak depth (mm)": 8.6,
          "ecdf": 0.2988505747126437,
          "set": "bootstrap",
          "year": 1975
         },
         {
          "beak depth (mm)": 8.65,
          "ecdf": 0.3103448275862069,
          "set": "bootstrap",
          "year": 1975
         },
         {
          "beak depth (mm)": 8.7,
          "ecdf": 0.3218390804597701,
          "set": "bootstrap",
          "year": 1975
         },
         {
          "beak depth (mm)": 8.7,
          "ecdf": 0.3333333333333333,
          "set": "bootstrap",
          "year": 1975
         },
         {
          "beak depth (mm)": 8.7,
          "ecdf": 0.3448275862068966,
          "set": "bootstrap",
          "year": 1975
         },
         {
          "beak depth (mm)": 8.7,
          "ecdf": 0.3563218390804598,
          "set": "bootstrap",
          "year": 1975
         },
         {
          "beak depth (mm)": 8.7,
          "ecdf": 0.367816091954023,
          "set": "bootstrap",
          "year": 1975
         },
         {
          "beak depth (mm)": 8.7,
          "ecdf": 0.3793103448275862,
          "set": "bootstrap",
          "year": 1975
         },
         {
          "beak depth (mm)": 8.7,
          "ecdf": 0.39080459770114945,
          "set": "bootstrap",
          "year": 1975
         },
         {
          "beak depth (mm)": 8.75,
          "ecdf": 0.40229885057471265,
          "set": "bootstrap",
          "year": 1975
         },
         {
          "beak depth (mm)": 8.8,
          "ecdf": 0.41379310344827586,
          "set": "bootstrap",
          "year": 1975
         },
         {
          "beak depth (mm)": 8.8,
          "ecdf": 0.42528735632183906,
          "set": "bootstrap",
          "year": 1975
         },
         {
          "beak depth (mm)": 8.8,
          "ecdf": 0.4367816091954023,
          "set": "bootstrap",
          "year": 1975
         },
         {
          "beak depth (mm)": 8.8,
          "ecdf": 0.4482758620689655,
          "set": "bootstrap",
          "year": 1975
         },
         {
          "beak depth (mm)": 8.8,
          "ecdf": 0.45977011494252873,
          "set": "bootstrap",
          "year": 1975
         },
         {
          "beak depth (mm)": 8.9,
          "ecdf": 0.47126436781609193,
          "set": "bootstrap",
          "year": 1975
         },
         {
          "beak depth (mm)": 8.9,
          "ecdf": 0.4827586206896552,
          "set": "bootstrap",
          "year": 1975
         },
         {
          "beak depth (mm)": 8.9,
          "ecdf": 0.4942528735632184,
          "set": "bootstrap",
          "year": 1975
         },
         {
          "beak depth (mm)": 8.9,
          "ecdf": 0.5057471264367817,
          "set": "bootstrap",
          "year": 1975
         },
         {
          "beak depth (mm)": 8.9,
          "ecdf": 0.5172413793103449,
          "set": "bootstrap",
          "year": 1975
         },
         {
          "beak depth (mm)": 8.9,
          "ecdf": 0.5287356321839081,
          "set": "bootstrap",
          "year": 1975
         },
         {
          "beak depth (mm)": 9,
          "ecdf": 0.5402298850574713,
          "set": "bootstrap",
          "year": 1975
         },
         {
          "beak depth (mm)": 9,
          "ecdf": 0.5517241379310345,
          "set": "bootstrap",
          "year": 1975
         },
         {
          "beak depth (mm)": 9,
          "ecdf": 0.5632183908045977,
          "set": "bootstrap",
          "year": 1975
         },
         {
          "beak depth (mm)": 9,
          "ecdf": 0.5747126436781609,
          "set": "bootstrap",
          "year": 1975
         },
         {
          "beak depth (mm)": 9.04,
          "ecdf": 0.5862068965517241,
          "set": "bootstrap",
          "year": 1975
         },
         {
          "beak depth (mm)": 9.05,
          "ecdf": 0.5977011494252874,
          "set": "bootstrap",
          "year": 1975
         },
         {
          "beak depth (mm)": 9.05,
          "ecdf": 0.6091954022988506,
          "set": "bootstrap",
          "year": 1975
         },
         {
          "beak depth (mm)": 9.05,
          "ecdf": 0.6206896551724138,
          "set": "bootstrap",
          "year": 1975
         },
         {
          "beak depth (mm)": 9.1,
          "ecdf": 0.632183908045977,
          "set": "bootstrap",
          "year": 1975
         },
         {
          "beak depth (mm)": 9.1,
          "ecdf": 0.6436781609195402,
          "set": "bootstrap",
          "year": 1975
         },
         {
          "beak depth (mm)": 9.1,
          "ecdf": 0.6551724137931034,
          "set": "bootstrap",
          "year": 1975
         },
         {
          "beak depth (mm)": 9.1,
          "ecdf": 0.6666666666666666,
          "set": "bootstrap",
          "year": 1975
         },
         {
          "beak depth (mm)": 9.1,
          "ecdf": 0.6781609195402298,
          "set": "bootstrap",
          "year": 1975
         },
         {
          "beak depth (mm)": 9.1,
          "ecdf": 0.6896551724137931,
          "set": "bootstrap",
          "year": 1975
         },
         {
          "beak depth (mm)": 9.1,
          "ecdf": 0.7011494252873564,
          "set": "bootstrap",
          "year": 1975
         },
         {
          "beak depth (mm)": 9.1,
          "ecdf": 0.7126436781609196,
          "set": "bootstrap",
          "year": 1975
         },
         {
          "beak depth (mm)": 9.1,
          "ecdf": 0.7241379310344828,
          "set": "bootstrap",
          "year": 1975
         },
         {
          "beak depth (mm)": 9.1,
          "ecdf": 0.735632183908046,
          "set": "bootstrap",
          "year": 1975
         },
         {
          "beak depth (mm)": 9.2,
          "ecdf": 0.7471264367816092,
          "set": "bootstrap",
          "year": 1975
         },
         {
          "beak depth (mm)": 9.2,
          "ecdf": 0.7586206896551724,
          "set": "bootstrap",
          "year": 1975
         },
         {
          "beak depth (mm)": 9.2,
          "ecdf": 0.7701149425287356,
          "set": "bootstrap",
          "year": 1975
         },
         {
          "beak depth (mm)": 9.2,
          "ecdf": 0.7816091954022989,
          "set": "bootstrap",
          "year": 1975
         },
         {
          "beak depth (mm)": 9.3,
          "ecdf": 0.7931034482758621,
          "set": "bootstrap",
          "year": 1975
         },
         {
          "beak depth (mm)": 9.3,
          "ecdf": 0.8045977011494253,
          "set": "bootstrap",
          "year": 1975
         },
         {
          "beak depth (mm)": 9.44,
          "ecdf": 0.8160919540229885,
          "set": "bootstrap",
          "year": 1975
         },
         {
          "beak depth (mm)": 9.44,
          "ecdf": 0.8275862068965517,
          "set": "bootstrap",
          "year": 1975
         },
         {
          "beak depth (mm)": 9.45,
          "ecdf": 0.8390804597701149,
          "set": "bootstrap",
          "year": 1975
         },
         {
          "beak depth (mm)": 9.45,
          "ecdf": 0.8505747126436781,
          "set": "bootstrap",
          "year": 1975
         },
         {
          "beak depth (mm)": 9.45,
          "ecdf": 0.8620689655172413,
          "set": "bootstrap",
          "year": 1975
         },
         {
          "beak depth (mm)": 9.45,
          "ecdf": 0.8735632183908046,
          "set": "bootstrap",
          "year": 1975
         },
         {
          "beak depth (mm)": 9.7,
          "ecdf": 0.8850574712643678,
          "set": "bootstrap",
          "year": 1975
         },
         {
          "beak depth (mm)": 9.7,
          "ecdf": 0.896551724137931,
          "set": "bootstrap",
          "year": 1975
         },
         {
          "beak depth (mm)": 9.7,
          "ecdf": 0.9080459770114943,
          "set": "bootstrap",
          "year": 1975
         },
         {
          "beak depth (mm)": 9.7,
          "ecdf": 0.9195402298850575,
          "set": "bootstrap",
          "year": 1975
         },
         {
          "beak depth (mm)": 9.8,
          "ecdf": 0.9310344827586207,
          "set": "bootstrap",
          "year": 1975
         },
         {
          "beak depth (mm)": 9.8,
          "ecdf": 0.9425287356321839,
          "set": "bootstrap",
          "year": 1975
         },
         {
          "beak depth (mm)": 9.9,
          "ecdf": 0.9540229885057471,
          "set": "bootstrap",
          "year": 1975
         },
         {
          "beak depth (mm)": 10.1,
          "ecdf": 0.9655172413793104,
          "set": "bootstrap",
          "year": 1975
         },
         {
          "beak depth (mm)": 10.2,
          "ecdf": 0.9770114942528736,
          "set": "bootstrap",
          "year": 1975
         },
         {
          "beak depth (mm)": 10.4,
          "ecdf": 0.9885057471264368,
          "set": "bootstrap",
          "year": 1975
         },
         {
          "beak depth (mm)": 10.4,
          "ecdf": 1,
          "set": "bootstrap",
          "year": 1975
         },
         {
          "beak depth (mm)": 8.4,
          "ecdf": 0.16091954022988506,
          "set": 1975,
          "year": 1975
         },
         {
          "beak depth (mm)": 8.8,
          "ecdf": 0.39080459770114945,
          "set": 1975,
          "year": 1975
         },
         {
          "beak depth (mm)": 8.4,
          "ecdf": 0.1724137931034483,
          "set": 1975,
          "year": 1975
         },
         {
          "beak depth (mm)": 8,
          "ecdf": 0.022988505747126436,
          "set": 1975,
          "year": 1975
         },
         {
          "beak depth (mm)": 7.9,
          "ecdf": 0.011494252873563218,
          "set": 1975,
          "year": 1975
         },
         {
          "beak depth (mm)": 8.9,
          "ecdf": 0.4482758620689655,
          "set": 1975,
          "year": 1975
         },
         {
          "beak depth (mm)": 8.6,
          "ecdf": 0.26436781609195403,
          "set": 1975,
          "year": 1975
         },
         {
          "beak depth (mm)": 8.5,
          "ecdf": 0.20689655172413793,
          "set": 1975,
          "year": 1975
         },
         {
          "beak depth (mm)": 8.9,
          "ecdf": 0.45977011494252873,
          "set": 1975,
          "year": 1975
         },
         {
          "beak depth (mm)": 9.1,
          "ecdf": 0.6091954022988506,
          "set": 1975,
          "year": 1975
         },
         {
          "beak depth (mm)": 8.6,
          "ecdf": 0.27586206896551724,
          "set": 1975,
          "year": 1975
         },
         {
          "beak depth (mm)": 9.8,
          "ecdf": 0.9195402298850575,
          "set": 1975,
          "year": 1975
         },
         {
          "beak depth (mm)": 8.2,
          "ecdf": 0.06896551724137931,
          "set": 1975,
          "year": 1975
         },
         {
          "beak depth (mm)": 9,
          "ecdf": 0.5057471264367817,
          "set": 1975,
          "year": 1975
         },
         {
          "beak depth (mm)": 9.7,
          "ecdf": 0.8850574712643678,
          "set": 1975,
          "year": 1975
         },
         {
          "beak depth (mm)": 8.6,
          "ecdf": 0.28735632183908044,
          "set": 1975,
          "year": 1975
         },
         {
          "beak depth (mm)": 8.2,
          "ecdf": 0.08045977011494253,
          "set": 1975,
          "year": 1975
         },
         {
          "beak depth (mm)": 9,
          "ecdf": 0.5172413793103449,
          "set": 1975,
          "year": 1975
         },
         {
          "beak depth (mm)": 8.4,
          "ecdf": 0.1839080459770115,
          "set": 1975,
          "year": 1975
         },
         {
          "beak depth (mm)": 8.6,
          "ecdf": 0.2988505747126437,
          "set": 1975,
          "year": 1975
         },
         {
          "beak depth (mm)": 8.9,
          "ecdf": 0.47126436781609193,
          "set": 1975,
          "year": 1975
         },
         {
          "beak depth (mm)": 9.1,
          "ecdf": 0.6206896551724138,
          "set": 1975,
          "year": 1975
         },
         {
          "beak depth (mm)": 8.3,
          "ecdf": 0.10344827586206896,
          "set": 1975,
          "year": 1975
         },
         {
          "beak depth (mm)": 8.7,
          "ecdf": 0.3448275862068966,
          "set": 1975,
          "year": 1975
         },
         {
          "beak depth (mm)": 9.6,
          "ecdf": 0.8505747126436781,
          "set": 1975,
          "year": 1975
         },
         {
          "beak depth (mm)": 8.5,
          "ecdf": 0.21839080459770116,
          "set": 1975,
          "year": 1975
         },
         {
          "beak depth (mm)": 9.1,
          "ecdf": 0.632183908045977,
          "set": 1975,
          "year": 1975
         },
         {
          "beak depth (mm)": 9,
          "ecdf": 0.5287356321839081,
          "set": 1975,
          "year": 1975
         },
         {
          "beak depth (mm)": 9.2,
          "ecdf": 0.7126436781609196,
          "set": 1975,
          "year": 1975
         },
         {
          "beak depth (mm)": 9.9,
          "ecdf": 0.9425287356321839,
          "set": 1975,
          "year": 1975
         },
         {
          "beak depth (mm)": 8.6,
          "ecdf": 0.3103448275862069,
          "set": 1975,
          "year": 1975
         },
         {
          "beak depth (mm)": 9.2,
          "ecdf": 0.7241379310344828,
          "set": 1975,
          "year": 1975
         },
         {
          "beak depth (mm)": 8.4,
          "ecdf": 0.19540229885057472,
          "set": 1975,
          "year": 1975
         },
         {
          "beak depth (mm)": 8.9,
          "ecdf": 0.4827586206896552,
          "set": 1975,
          "year": 1975
         },
         {
          "beak depth (mm)": 8.5,
          "ecdf": 0.22988505747126436,
          "set": 1975,
          "year": 1975
         },
         {
          "beak depth (mm)": 10.4,
          "ecdf": 0.9885057471264368,
          "set": 1975,
          "year": 1975
         },
         {
          "beak depth (mm)": 9.6,
          "ecdf": 0.8620689655172413,
          "set": 1975,
          "year": 1975
         },
         {
          "beak depth (mm)": 9.1,
          "ecdf": 0.6436781609195402,
          "set": 1975,
          "year": 1975
         },
         {
          "beak depth (mm)": 9.3,
          "ecdf": 0.7586206896551724,
          "set": 1975,
          "year": 1975
         },
         {
          "beak depth (mm)": 9.3,
          "ecdf": 0.7701149425287356,
          "set": 1975,
          "year": 1975
         },
         {
          "beak depth (mm)": 8.8,
          "ecdf": 0.40229885057471265,
          "set": 1975,
          "year": 1975
         },
         {
          "beak depth (mm)": 8.3,
          "ecdf": 0.11494252873563218,
          "set": 1975,
          "year": 1975
         },
         {
          "beak depth (mm)": 8.8,
          "ecdf": 0.41379310344827586,
          "set": 1975,
          "year": 1975
         },
         {
          "beak depth (mm)": 9.1,
          "ecdf": 0.6551724137931034,
          "set": 1975,
          "year": 1975
         },
         {
          "beak depth (mm)": 10.1,
          "ecdf": 0.9540229885057471,
          "set": 1975,
          "year": 1975
         },
         {
          "beak depth (mm)": 8.9,
          "ecdf": 0.4942528735632184,
          "set": 1975,
          "year": 1975
         },
         {
          "beak depth (mm)": 9.2,
          "ecdf": 0.735632183908046,
          "set": 1975,
          "year": 1975
         },
         {
          "beak depth (mm)": 8.5,
          "ecdf": 0.2413793103448276,
          "set": 1975,
          "year": 1975
         },
         {
          "beak depth (mm)": 10.2,
          "ecdf": 0.9770114942528736,
          "set": 1975,
          "year": 1975
         },
         {
          "beak depth (mm)": 10.1,
          "ecdf": 0.9655172413793104,
          "set": 1975,
          "year": 1975
         },
         {
          "beak depth (mm)": 9.2,
          "ecdf": 0.7471264367816092,
          "set": 1975,
          "year": 1975
         },
         {
          "beak depth (mm)": 9.7,
          "ecdf": 0.896551724137931,
          "set": 1975,
          "year": 1975
         },
         {
          "beak depth (mm)": 9.1,
          "ecdf": 0.6666666666666666,
          "set": 1975,
          "year": 1975
         },
         {
          "beak depth (mm)": 8.5,
          "ecdf": 0.25287356321839083,
          "set": 1975,
          "year": 1975
         },
         {
          "beak depth (mm)": 8.2,
          "ecdf": 0.09195402298850575,
          "set": 1975,
          "year": 1975
         },
         {
          "beak depth (mm)": 9,
          "ecdf": 0.5402298850574713,
          "set": 1975,
          "year": 1975
         },
         {
          "beak depth (mm)": 9.3,
          "ecdf": 0.7816091954022989,
          "set": 1975,
          "year": 1975
         },
         {
          "beak depth (mm)": 8,
          "ecdf": 0.034482758620689655,
          "set": 1975,
          "year": 1975
         },
         {
          "beak depth (mm)": 9.1,
          "ecdf": 0.6781609195402298,
          "set": 1975,
          "year": 1975
         },
         {
          "beak depth (mm)": 8.1,
          "ecdf": 0.05747126436781609,
          "set": 1975,
          "year": 1975
         },
         {
          "beak depth (mm)": 8.3,
          "ecdf": 0.12643678160919541,
          "set": 1975,
          "year": 1975
         },
         {
          "beak depth (mm)": 8.7,
          "ecdf": 0.3563218390804598,
          "set": 1975,
          "year": 1975
         },
         {
          "beak depth (mm)": 8.8,
          "ecdf": 0.42528735632183906,
          "set": 1975,
          "year": 1975
         },
         {
          "beak depth (mm)": 8.6,
          "ecdf": 0.3218390804597701,
          "set": 1975,
          "year": 1975
         },
         {
          "beak depth (mm)": 8.7,
          "ecdf": 0.367816091954023,
          "set": 1975,
          "year": 1975
         },
         {
          "beak depth (mm)": 8,
          "ecdf": 0.04597701149425287,
          "set": 1975,
          "year": 1975
         },
         {
          "beak depth (mm)": 8.8,
          "ecdf": 0.4367816091954023,
          "set": 1975,
          "year": 1975
         },
         {
          "beak depth (mm)": 9,
          "ecdf": 0.5517241379310345,
          "set": 1975,
          "year": 1975
         },
         {
          "beak depth (mm)": 9.1,
          "ecdf": 0.6896551724137931,
          "set": 1975,
          "year": 1975
         },
         {
          "beak depth (mm)": 9.74,
          "ecdf": 0.9080459770114943,
          "set": 1975,
          "year": 1975
         },
         {
          "beak depth (mm)": 9.1,
          "ecdf": 0.7011494252873564,
          "set": 1975,
          "year": 1975
         },
         {
          "beak depth (mm)": 9.8,
          "ecdf": 0.9310344827586207,
          "set": 1975,
          "year": 1975
         },
         {
          "beak depth (mm)": 10.4,
          "ecdf": 1,
          "set": 1975,
          "year": 1975
         },
         {
          "beak depth (mm)": 8.3,
          "ecdf": 0.13793103448275862,
          "set": 1975,
          "year": 1975
         },
         {
          "beak depth (mm)": 9.44,
          "ecdf": 0.7931034482758621,
          "set": 1975,
          "year": 1975
         },
         {
          "beak depth (mm)": 9.04,
          "ecdf": 0.5747126436781609,
          "set": 1975,
          "year": 1975
         },
         {
          "beak depth (mm)": 9,
          "ecdf": 0.5632183908045977,
          "set": 1975,
          "year": 1975
         },
         {
          "beak depth (mm)": 9.05,
          "ecdf": 0.5862068965517241,
          "set": 1975,
          "year": 1975
         },
         {
          "beak depth (mm)": 9.65,
          "ecdf": 0.8735632183908046,
          "set": 1975,
          "year": 1975
         },
         {
          "beak depth (mm)": 9.45,
          "ecdf": 0.8045977011494253,
          "set": 1975,
          "year": 1975
         },
         {
          "beak depth (mm)": 8.65,
          "ecdf": 0.3333333333333333,
          "set": 1975,
          "year": 1975
         },
         {
          "beak depth (mm)": 9.45,
          "ecdf": 0.8160919540229885,
          "set": 1975,
          "year": 1975
         },
         {
          "beak depth (mm)": 9.45,
          "ecdf": 0.8275862068965517,
          "set": 1975,
          "year": 1975
         },
         {
          "beak depth (mm)": 9.05,
          "ecdf": 0.5977011494252874,
          "set": 1975,
          "year": 1975
         },
         {
          "beak depth (mm)": 8.75,
          "ecdf": 0.3793103448275862,
          "set": 1975,
          "year": 1975
         },
         {
          "beak depth (mm)": 9.45,
          "ecdf": 0.8390804597701149,
          "set": 1975,
          "year": 1975
         },
         {
          "beak depth (mm)": 8.35,
          "ecdf": 0.14942528735632185,
          "set": 1975,
          "year": 1975
         }
        ]
       },
       "encoding": {
        "color": {
         "field": "set",
         "type": "nominal"
        },
        "x": {
         "field": "beak depth (mm)",
         "scale": {
          "zero": false
         },
         "type": "quantitative"
        },
        "y": {
         "field": "ecdf",
         "type": "quantitative"
        }
       },
       "height": 500,
       "mark": "point",
       "width": 800
      },
      "image/png": "[encoded data removed]",
      "text/plain": [
       "<VegaLite 2 object>\n",
       "\n",
       "If you see this message, it means the renderer has not been properly enabled\n",
       "for the frontend that you are using. For more information, see\n",
       "https://altair-viz.github.io/user_guide/troubleshooting.html\n"
      ]
     },
     "execution_count": 183,
     "metadata": {},
     "output_type": "execute_result"
    }
   ],
   "source": [
    "x_bs, y_bs = bootcamp_utils.ecdf_vals(bs_sample)\n",
    "\n",
    "df_bs = pd.DataFrame(data={'beak depth (mm)': x_bs,\n",
    "                           'ecdf': y_bs,\n",
    "                           'set': 'bootstrap',\n",
    "                           'year': 1975})\n",
    "\n",
    "df_orig = df.copy().loc[df['year'] == 1975, :]\n",
    "df_orig['set'] = 1975\n",
    "\n",
    "df_plot = pd.concat([df_bs, df_orig], ignore_index=True, sort=True)\n",
    "\n",
    "alt.Chart(df_plot,\n",
    "          height=500,\n",
    "          width=800\n",
    "    ).mark_point(\n",
    "    ).encode(x=alt.X('beak depth (mm):Q', scale=alt.Scale(zero=False)),\n",
    "             y='ecdf:Q',\n",
    "             color=alt.Color('set:N'))"
   ]
  },
  {
   "cell_type": "code",
   "execution_count": 184,
   "metadata": {},
   "outputs": [
    {
     "data": {
      "text/plain": [
       "(8.92609195402299, 8.959999999999999)"
      ]
     },
     "execution_count": 184,
     "metadata": {},
     "output_type": "execute_result"
    }
   ],
   "source": [
    "np.mean(bs_sample), np.mean(bd_1975)"
   ]
  },
  {
   "cell_type": "code",
   "execution_count": 204,
   "metadata": {},
   "outputs": [],
   "source": [
    "n_reps = 1000000\n",
    "\n",
    "bs_reps_1975 = np.empty(n_reps)\n",
    "\n",
    "for i in range(n_reps):\n",
    "    bs_sample = np.random.choice(bd_1975, size=len(bd_1975))\n",
    "    bs_reps_1975[i] = np.std(bs_sample)"
   ]
  },
  {
   "cell_type": "code",
   "execution_count": 205,
   "metadata": {},
   "outputs": [
    {
     "data": {
      "application/vnd.vegalite.v2+json": {
       "$schema": "https://vega.github.io/schema/vega-lite/v2.4.3.json",
       "config": {
        "view": {
         "height": 300,
         "width": 400
        }
       },
       "data": {
        "values": [
         {
          "ecdf": 1e-06,
          "std beak depth (mm)": 0.3717038784916978
         },
         {
          "ecdf": 0.010001,
          "std beak depth (mm)": 0.46188324740320985
         },
         {
          "ecdf": 0.020001,
          "std beak depth (mm)": 0.47333908321606843
         },
         {
          "ecdf": 0.030001,
          "std beak depth (mm)": 0.4804853702688665
         },
         {
          "ecdf": 0.040001,
          "std beak depth (mm)": 0.48586888062901684
         },
         {
          "ecdf": 0.050001,
          "std beak depth (mm)": 0.4902805083616688
         },
         {
          "ecdf": 0.060001,
          "std beak depth (mm)": 0.4940113817948384
         },
         {
          "ecdf": 0.070001,
          "std beak depth (mm)": 0.4973636667372833
         },
         {
          "ecdf": 0.080001,
          "std beak depth (mm)": 0.5002964110175069
         },
         {
          "ecdf": 0.090001,
          "std beak depth (mm)": 0.5029487628502359
         },
         {
          "ecdf": 0.100001,
          "std beak depth (mm)": 0.5054053442825176
         },
         {
          "ecdf": 0.110001,
          "std beak depth (mm)": 0.5077102963428566
         },
         {
          "ecdf": 0.120001,
          "std beak depth (mm)": 0.5098902397050166
         },
         {
          "ecdf": 0.130001,
          "std beak depth (mm)": 0.51192842221628
         },
         {
          "ecdf": 0.140001,
          "std beak depth (mm)": 0.5138760508014203
         },
         {
          "ecdf": 0.150001,
          "std beak depth (mm)": 0.5157069449392049
         },
         {
          "ecdf": 0.160001,
          "std beak depth (mm)": 0.5174105725832763
         },
         {
          "ecdf": 0.170001,
          "std beak depth (mm)": 0.5191146156157214
         },
         {
          "ecdf": 0.180001,
          "std beak depth (mm)": 0.5207360360962221
         },
         {
          "ecdf": 0.190001,
          "std beak depth (mm)": 0.522299660028513
         },
         {
          "ecdf": 0.200001,
          "std beak depth (mm)": 0.5238020954736803
         },
         {
          "ecdf": 0.210001,
          "std beak depth (mm)": 0.5252782010822176
         },
         {
          "ecdf": 0.220001,
          "std beak depth (mm)": 0.5267260160121028
         },
         {
          "ecdf": 0.230001,
          "std beak depth (mm)": 0.5281384933890292
         },
         {
          "ecdf": 0.240001,
          "std beak depth (mm)": 0.5295066841665842
         },
         {
          "ecdf": 0.250001,
          "std beak depth (mm)": 0.530832797446889
         },
         {
          "ecdf": 0.260001,
          "std beak depth (mm)": 0.5321301827353802
         },
         {
          "ecdf": 0.270001,
          "std beak depth (mm)": 0.5334257995547257
         },
         {
          "ecdf": 0.280001,
          "std beak depth (mm)": 0.5346628049237689
         },
         {
          "ecdf": 0.290001,
          "std beak depth (mm)": 0.5359028224565757
         },
         {
          "ecdf": 0.300001,
          "std beak depth (mm)": 0.5371038438149781
         },
         {
          "ecdf": 0.310001,
          "std beak depth (mm)": 0.5382972522939252
         },
         {
          "ecdf": 0.320001,
          "std beak depth (mm)": 0.5394553263689588
         },
         {
          "ecdf": 0.330001,
          "std beak depth (mm)": 0.54059830919682
         },
         {
          "ecdf": 0.340001,
          "std beak depth (mm)": 0.54172512566033
         },
         {
          "ecdf": 0.350001,
          "std beak depth (mm)": 0.5428670044213081
         },
         {
          "ecdf": 0.360001,
          "std beak depth (mm)": 0.5440092792568509
         },
         {
          "ecdf": 0.370001,
          "std beak depth (mm)": 0.5451002761010278
         },
         {
          "ecdf": 0.380001,
          "std beak depth (mm)": 0.546191609368486
         },
         {
          "ecdf": 0.390001,
          "std beak depth (mm)": 0.5472760347977712
         },
         {
          "ecdf": 0.400001,
          "std beak depth (mm)": 0.5483520031951302
         },
         {
          "ecdf": 0.410001,
          "std beak depth (mm)": 0.5494137689361551
         },
         {
          "ecdf": 0.420001,
          "std beak depth (mm)": 0.5504754787830655
         },
         {
          "ecdf": 0.430001,
          "std beak depth (mm)": 0.5515387619608464
         },
         {
          "ecdf": 0.440001,
          "std beak depth (mm)": 0.5525977279269503
         },
         {
          "ecdf": 0.450001,
          "std beak depth (mm)": 0.553650802633249
         },
         {
          "ecdf": 0.460001,
          "std beak depth (mm)": 0.5546983054484483
         },
         {
          "ecdf": 0.470001,
          "std beak depth (mm)": 0.555746971912161
         },
         {
          "ecdf": 0.480001,
          "std beak depth (mm)": 0.5567781685021397
         },
         {
          "ecdf": 0.490001,
          "std beak depth (mm)": 0.5578165774930326
         },
         {
          "ecdf": 0.500001,
          "std beak depth (mm)": 0.5588593454538063
         },
         {
          "ecdf": 0.510001,
          "std beak depth (mm)": 0.5598921248229548
         },
         {
          "ecdf": 0.520001,
          "std beak depth (mm)": 0.5609375114890084
         },
         {
          "ecdf": 0.530001,
          "std beak depth (mm)": 0.5619741358078241
         },
         {
          "ecdf": 0.540001,
          "std beak depth (mm)": 0.5630231892556312
         },
         {
          "ecdf": 0.550001,
          "std beak depth (mm)": 0.5640641081825547
         },
         {
          "ecdf": 0.560001,
          "std beak depth (mm)": 0.5651197790249989
         },
         {
          "ecdf": 0.570001,
          "std beak depth (mm)": 0.5661623971574586
         },
         {
          "ecdf": 0.580001,
          "std beak depth (mm)": 0.5672064063564614
         },
         {
          "ecdf": 0.590001,
          "std beak depth (mm)": 0.5682372210944807
         },
         {
          "ecdf": 0.600001,
          "std beak depth (mm)": 0.5693035800494332
         },
         {
          "ecdf": 0.610001,
          "std beak depth (mm)": 0.5703729949912131
         },
         {
          "ecdf": 0.620001,
          "std beak depth (mm)": 0.5714484543471005
         },
         {
          "ecdf": 0.630001,
          "std beak depth (mm)": 0.572535946897797
         },
         {
          "ecdf": 0.640001,
          "std beak depth (mm)": 0.5736165409530664
         },
         {
          "ecdf": 0.650001,
          "std beak depth (mm)": 0.5747180459516209
         },
         {
          "ecdf": 0.660001,
          "std beak depth (mm)": 0.5758514234912053
         },
         {
          "ecdf": 0.670001,
          "std beak depth (mm)": 0.5769683319479633
         },
         {
          "ecdf": 0.680001,
          "std beak depth (mm)": 0.5781390960438689
         },
         {
          "ecdf": 0.690001,
          "std beak depth (mm)": 0.5793180988351712
         },
         {
          "ecdf": 0.700001,
          "std beak depth (mm)": 0.5804930000730717
         },
         {
          "ecdf": 0.710001,
          "std beak depth (mm)": 0.5816731599009315
         },
         {
          "ecdf": 0.720001,
          "std beak depth (mm)": 0.5828649384982642
         },
         {
          "ecdf": 0.730001,
          "std beak depth (mm)": 0.5840708434472203
         },
         {
          "ecdf": 0.740001,
          "std beak depth (mm)": 0.5853178067220408
         },
         {
          "ecdf": 0.750001,
          "std beak depth (mm)": 0.5866107691454988
         },
         {
          "ecdf": 0.760001,
          "std beak depth (mm)": 0.5879007531442942
         },
         {
          "ecdf": 0.770001,
          "std beak depth (mm)": 0.5892391712186159
         },
         {
          "ecdf": 0.780001,
          "std beak depth (mm)": 0.5905870389715103
         },
         {
          "ecdf": 0.790001,
          "std beak depth (mm)": 0.5919890626835098
         },
         {
          "ecdf": 0.800001,
          "std beak depth (mm)": 0.5934356193591831
         },
         {
          "ecdf": 0.810001,
          "std beak depth (mm)": 0.5948877863923007
         },
         {
          "ecdf": 0.820001,
          "std beak depth (mm)": 0.5964105429466167
         },
         {
          "ecdf": 0.830001,
          "std beak depth (mm)": 0.5979586094478134
         },
         {
          "ecdf": 0.840001,
          "std beak depth (mm)": 0.5995975661886148
         },
         {
          "ecdf": 0.850001,
          "std beak depth (mm)": 0.6013311520666177
         },
         {
          "ecdf": 0.860001,
          "std beak depth (mm)": 0.6031198449431495
         },
         {
          "ecdf": 0.870001,
          "std beak depth (mm)": 0.6049901702429823
         },
         {
          "ecdf": 0.880001,
          "std beak depth (mm)": 0.607002233048731
         },
         {
          "ecdf": 0.890001,
          "std beak depth (mm)": 0.6090892989361066
         },
         {
          "ecdf": 0.900001,
          "std beak depth (mm)": 0.6113183568641035
         },
         {
          "ecdf": 0.910001,
          "std beak depth (mm)": 0.6137033599207914
         },
         {
          "ecdf": 0.920001,
          "std beak depth (mm)": 0.6163092128508981
         },
         {
          "ecdf": 0.930001,
          "std beak depth (mm)": 0.619171002935329
         },
         {
          "ecdf": 0.940001,
          "std beak depth (mm)": 0.6223664027128949
         },
         {
          "ecdf": 0.950001,
          "std beak depth (mm)": 0.6259635669152782
         },
         {
          "ecdf": 0.960001,
          "std beak depth (mm)": 0.6302250320029655
         },
         {
          "ecdf": 0.970001,
          "std beak depth (mm)": 0.6354065197723968
         },
         {
          "ecdf": 0.980001,
          "std beak depth (mm)": 0.6423290459337015
         },
         {
          "ecdf": 0.990001,
          "std beak depth (mm)": 0.653162272250067
         }
        ]
       },
       "encoding": {
        "x": {
         "field": "std beak depth (mm)",
         "scale": {
          "zero": false
         },
         "type": "quantitative"
        },
        "y": {
         "field": "ecdf",
         "type": "quantitative"
        }
       },
       "height": 500,
       "mark": {
        "interpolate": "step",
        "type": "line"
       },
       "width": 800
      },
      "image/png": "[encoded data removed]",
      "text/plain": [
       "<VegaLite 2 object>\n",
       "\n",
       "If you see this message, it means the renderer has not been properly enabled\n",
       "for the frontend that you are using. For more information, see\n",
       "https://altair-viz.github.io/user_guide/troubleshooting.html\n"
      ]
     },
     "execution_count": 205,
     "metadata": {},
     "output_type": "execute_result"
    }
   ],
   "source": [
    "x, y = bootcamp_utils.ecdf_vals(bs_reps_1975)\n",
    "\n",
    "df_ecdf = pd.DataFrame(data={'std beak depth (mm)': x[::10000],\n",
    "                             'ecdf': y[::10000]}\n",
    "                      )\n",
    "\n",
    "\n",
    "alt.Chart(df_ecdf,\n",
    "          height=500,\n",
    "          width=800\n",
    "    ).mark_line(interpolate='step'\n",
    "    ).encode(x=alt.X('std beak depth (mm):Q', scale=alt.Scale(zero=False)),\n",
    "             y='ecdf:Q')"
   ]
  },
  {
   "cell_type": "code",
   "execution_count": 206,
   "metadata": {},
   "outputs": [
    {
     "data": {
      "text/plain": [
       "(0.558577438349293, array([0.4772463 , 0.63864856]))"
      ]
     },
     "execution_count": 206,
     "metadata": {},
     "output_type": "execute_result"
    }
   ],
   "source": [
    "np.mean(bs_reps_1975), np.percentile(bs_reps_1975, [2.5, 97.5])"
   ]
  },
  {
   "cell_type": "code",
   "execution_count": null,
   "metadata": {},
   "outputs": [],
   "source": []
  }
 ],
 "metadata": {
  "kernelspec": {
   "display_name": "Python 3",
   "language": "python",
   "name": "python3"
  },
  "language_info": {
   "codemirror_mode": {
    "name": "ipython",
    "version": 3
   },
   "file_extension": ".py",
   "mimetype": "text/x-python",
   "name": "python",
   "nbconvert_exporter": "python",
   "pygments_lexer": "ipython3",
   "version": "3.6.5"
  }
 },
 "nbformat": 4,
 "nbformat_minor": 2
}
