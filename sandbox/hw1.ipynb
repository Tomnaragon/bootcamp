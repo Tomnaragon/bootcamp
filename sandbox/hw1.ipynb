{
 "cells": [
  {
   "cell_type": "markdown",
   "metadata": {},
   "source": [
    "# Exercise 1.3"
   ]
  },
  {
   "cell_type": "code",
   "execution_count": 1,
   "metadata": {},
   "outputs": [],
   "source": [
    "def complement_base(base):\n",
    "    \"\"\"Returns the Watson-Crick complement of a base.\"\"\"\n",
    "    \n",
    "    if base in 'Aa':\n",
    "        return 'T'\n",
    "    elif base in 'Tt':\n",
    "        return 'A'\n",
    "    elif base in 'Gg':\n",
    "        return 'C'\n",
    "    else:\n",
    "        return 'G'"
   ]
  },
  {
   "cell_type": "code",
   "execution_count": 2,
   "metadata": {},
   "outputs": [],
   "source": [
    "def reverse_complement_new(seq):\n",
    "    \"\"\"Compute reverse complement of a sequence.\"\"\"\n",
    "    \n",
    "    # Initialize reverse complement\n",
    "    rev_seq = ''\n",
    "    \n",
    "    # Loop through and populate list with reverse complement\n",
    "    for i,base in enumerate(seq):\n",
    "        rev_seq += complement_base(seq[-1 - i])\n",
    "        \n",
    "    return rev_seq"
   ]
  },
  {
   "cell_type": "code",
   "execution_count": 3,
   "metadata": {},
   "outputs": [
    {
     "data": {
      "text/plain": [
       "'CCTGGAGGT'"
      ]
     },
     "execution_count": 3,
     "metadata": {},
     "output_type": "execute_result"
    }
   ],
   "source": [
    "sequence = 'ACCTCCAGG'\n",
    "\n",
    "reverse_complement_new(sequence)"
   ]
  },
  {
   "cell_type": "markdown",
   "metadata": {},
   "source": [
    "# 1.3.b"
   ]
  },
  {
   "cell_type": "code",
   "execution_count": 4,
   "metadata": {},
   "outputs": [],
   "source": [
    "def reverse_complement_newest(seq):\n",
    "    \"\"\"Compute reverse complement of a sequence.\"\"\"\n",
    "    \n",
    "    # reverse the sequence by striding backwards\n",
    "    rev_seq = seq[::-1]\n",
    "    # use hold values for two of the bases\n",
    "    rev_seq = rev_seq.replace('A','X').replace('T','A').replace('C','Y').replace('G','C')\n",
    "    rev_seq = rev_seq.replace('X','T').replace('Y','G')\n",
    "    \n",
    "    return rev_seq"
   ]
  },
  {
   "cell_type": "code",
   "execution_count": 5,
   "metadata": {},
   "outputs": [
    {
     "data": {
      "text/plain": [
       "'CCTGGAGGT'"
      ]
     },
     "execution_count": 5,
     "metadata": {},
     "output_type": "execute_result"
    }
   ],
   "source": [
    "reverse_complement_newest(sequence)"
   ]
  },
  {
   "cell_type": "markdown",
   "metadata": {},
   "source": [
    "# 1.4"
   ]
  },
  {
   "cell_type": "code",
   "execution_count": 19,
   "metadata": {},
   "outputs": [],
   "source": [
    "def common_substring(str1,str2):\n",
    "    \"\"\"Find the the longest substring between two strings\"\"\"\n",
    "    stringset = (str1,str2)\n",
    "    shortStr = 0\n",
    "    longStr = 1\n",
    "    \n",
    "    count = 0\n",
    "    \n",
    "    initloc = []\n",
    "    if len(str2) > len(str1):\n",
    "        shortStr = 1\n",
    "        longStr = 0\n",
    "    \n",
    "    for i in reversed(range(len(stringset[shortStr]))) :\n",
    "        for j in range(len(stringset[longStr]) - i):\n",
    "            print(stringset[longStr][j:j+i])\n",
    "            if stringset[shortStr].find(stringset[longStr][j:j+i]) != -1:\n",
    "                count += 1\n",
    "                initloc.append((j,stringset[shortStr].find(stringset[longStr][j:j+i])))\n",
    "                \n",
    "        if count > 0:\n",
    "            break\n",
    "                \n",
    "    return count, initloc, i"
   ]
  },
  {
   "cell_type": "code",
   "execution_count": 20,
   "metadata": {},
   "outputs": [],
   "source": [
    "str1 = 'GACTAGGGGG'\n",
    "str2 = 'ACCTGGACTGAGAGAGAGGACTAG'"
   ]
  },
  {
   "cell_type": "code",
   "execution_count": 21,
   "metadata": {},
   "outputs": [
    {
     "name": "stdout",
     "output_type": "stream",
     "text": [
      "GACTAGGGG\n",
      "GACTAGGG\n",
      "ACTAGGGG\n",
      "GACTAGG\n",
      "ACTAGGG\n",
      "CTAGGGG\n",
      "GACTAG\n",
      "ACTAGG\n",
      "CTAGGG\n",
      "TAGGGG\n"
     ]
    },
    {
     "data": {
      "text/plain": [
       "(1, [(0, 18)], 6)"
      ]
     },
     "execution_count": 21,
     "metadata": {},
     "output_type": "execute_result"
    }
   ],
   "source": [
    "common_substring(str1,str2)"
   ]
  },
  {
   "cell_type": "markdown",
   "metadata": {},
   "source": [
    "# 1.5.a"
   ]
  },
  {
   "cell_type": "code",
   "execution_count": 93,
   "metadata": {},
   "outputs": [],
   "source": [
    "def check_those_parens(dotparens):\n",
    "    if dotparens.count('(') == dotparens.count(')'):\n",
    "        return True\n",
    "    else:\n",
    "        return False"
   ]
  },
  {
   "cell_type": "markdown",
   "metadata": {},
   "source": [
    "# 1.5.b"
   ]
  },
  {
   "cell_type": "code",
   "execution_count": 133,
   "metadata": {},
   "outputs": [],
   "source": [
    "def dotparen_to_bp(dotparens):\n",
    "    count = dotparens.count('(')\n",
    "    inds = []\n",
    "    startInd = 0\n",
    "    for i in range(count):\n",
    "        openParen = dotparens.find('(') \n",
    "        closeParen = dotparens.rfind(')')\n",
    "        inds.append((openParen+startInd,closeParen+startInd))\n",
    "        dotparens = dotparens[openParen+1:closeParen]  \n",
    "        \n",
    "        startInd += openParen+1\n",
    "    return tuple(inds)"
   ]
  },
  {
   "cell_type": "code",
   "execution_count": null,
   "metadata": {},
   "outputs": [],
   "source": [
    "def dotparen_to_bp(dotparens):\n",
    "    listParens = list(dotparens)\n",
    "    \n",
    "    adderArray = listParens == '('\n",
    "    \n",
    "    return tuple(inds)"
   ]
  },
  {
   "cell_type": "code",
   "execution_count": 134,
   "metadata": {},
   "outputs": [
    {
     "data": {
      "text/plain": [
       "((0, 8), (1, 7), (2, 6))"
      ]
     },
     "execution_count": 134,
     "metadata": {},
     "output_type": "execute_result"
    }
   ],
   "source": [
    "dotparen_to_bp('(((...)))')"
   ]
  },
  {
   "cell_type": "markdown",
   "metadata": {},
   "source": [
    "# 1.5.c"
   ]
  },
  {
   "cell_type": "code",
   "execution_count": null,
   "metadata": {},
   "outputs": [],
   "source": [
    "def min_hairpin_len(dotparen_tuples):\n",
    "    if dotparen_tuples"
   ]
  },
  {
   "cell_type": "code",
   "execution_count": 136,
   "metadata": {},
   "outputs": [
    {
     "data": {
      "text/plain": [
       "['(', '(', '(', '.', '.', '.', ')', ')', ')']"
      ]
     },
     "execution_count": 136,
     "metadata": {},
     "output_type": "execute_result"
    }
   ],
   "source": [
    "listParens = list('(((...)))')\n",
    "    \n",
    "listParens"
   ]
  },
  {
   "cell_type": "code",
   "execution_count": 139,
   "metadata": {},
   "outputs": [
    {
     "ename": "AttributeError",
     "evalue": "'list' object has no attribute 'loc'",
     "output_type": "error",
     "traceback": [
      "\u001b[0;31m---------------------------------------------------------------------------\u001b[0m",
      "\u001b[0;31mAttributeError\u001b[0m                            Traceback (most recent call last)",
      "\u001b[0;32m<ipython-input-139-9991b71d7d9d>\u001b[0m in \u001b[0;36m<module>\u001b[0;34m()\u001b[0m\n\u001b[0;32m----> 1\u001b[0;31m \u001b[0mlistParens\u001b[0m\u001b[0;34m.\u001b[0m\u001b[0mloc\u001b[0m\u001b[0;34m(\u001b[0m\u001b[0;34m'('\u001b[0m\u001b[0;34m)\u001b[0m\u001b[0;34m\u001b[0m\u001b[0m\n\u001b[0m",
      "\u001b[0;31mAttributeError\u001b[0m: 'list' object has no attribute 'loc'"
     ]
    }
   ],
   "source": [
    "listParens.loc('(')"
   ]
  },
  {
   "cell_type": "code",
   "execution_count": null,
   "metadata": {},
   "outputs": [],
   "source": []
  }
 ],
 "metadata": {
  "kernelspec": {
   "display_name": "Python 3",
   "language": "python",
   "name": "python3"
  },
  "language_info": {
   "codemirror_mode": {
    "name": "ipython",
    "version": 3
   },
   "file_extension": ".py",
   "mimetype": "text/x-python",
   "name": "python",
   "nbconvert_exporter": "python",
   "pygments_lexer": "ipython3",
   "version": "3.6.5"
  }
 },
 "nbformat": 4,
 "nbformat_minor": 2
}
